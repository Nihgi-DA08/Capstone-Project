{
 "cells": [
  {
   "attachments": {},
   "cell_type": "markdown",
   "metadata": {},
   "source": [
    "# CAPSTONE PROJECT"
   ]
  },
  {
   "cell_type": "code",
   "execution_count": 1,
   "metadata": {},
   "outputs": [],
   "source": [
    "import pandas as pd\n",
    "import seaborn as sns\n",
    "import ipywidgets as widgets\n",
    "import matplotlib.pyplot as plt\n",
    "from ipywidgets import interact\n",
    "from pandas.api.types import CategoricalDtype"
   ]
  },
  {
   "cell_type": "code",
   "execution_count": 2,
   "metadata": {},
   "outputs": [],
   "source": [
    "COL_NAME_HTL = 'Hotel'\n",
    "COL_NAME_LEAD_TIME = 'Lead Time'\n",
    "COL_NAME_ARR_DATE_D = 'Arrival Date Day'\n",
    "COL_NAME_ARR_DATE_M = 'Arrival Date Month'\n",
    "COL_NAME_ARR_DATE_Y = 'Arrival Date Year'\n",
    "COL_NAME_ARR_DATE = 'Arrival Date'\n",
    "COL_NAME_ADT = 'Adults'\n",
    "COL_NAME_CHLDN = 'Children'\n",
    "COL_NAME_CNTRY = 'Country'\n",
    "COL_NAME_MKT_SEG = 'Market Segment'\n",
    "COL_NAME_AGT = 'Agent'\n",
    "COL_NAME_CUST_TYPE = 'Customer Type'\n",
    "COL_NAME_AVG_DLY_RATE = 'Average Daily Rate'\n",
    "COL_NAME_CNTRY_NAME = 'Country Name'"
   ]
  },
  {
   "cell_type": "code",
   "execution_count": 3,
   "metadata": {},
   "outputs": [],
   "source": [
    "month_order = ['January', 'February', 'March', 'April', 'May', 'June', 'July', 'August', 'September', 'October', 'November', 'December']"
   ]
  },
  {
   "cell_type": "code",
   "execution_count": 4,
   "metadata": {},
   "outputs": [],
   "source": [
    "df = pd.read_csv('data_valid.csv')\n",
    "country_codes_df = pd.read_excel('country_codes_list.xlsx')\n",
    "merged_df = pd.merge(df, country_codes_df, on=COL_NAME_CNTRY, how='left')"
   ]
  },
  {
   "cell_type": "code",
   "execution_count": 5,
   "metadata": {},
   "outputs": [],
   "source": [
    "df[COL_NAME_AGT] = df[COL_NAME_AGT].astype(str)"
   ]
  },
  {
   "cell_type": "code",
   "execution_count": 6,
   "metadata": {},
   "outputs": [],
   "source": [
    "# Create dropdown\n",
    "def crt_dropdown(col_name, desc):\n",
    "    list = df[col_name].unique().tolist()\n",
    "    list.append('All')\n",
    "    return widgets.Dropdown(\n",
    "        options=list,\n",
    "        value='All',\n",
    "        description=f'{desc}: ',\n",
    "        style={'description_width': 'initial'},\n",
    "        layout={'width': '15%', 'margin': '0 auto'})"
   ]
  },
  {
   "cell_type": "code",
   "execution_count": 7,
   "metadata": {},
   "outputs": [],
   "source": [
    "# Column by object output\n",
    "def col_by_obj_output(obj, col_by_cht_op, col_by_obj, col_name, desc):\n",
    "    with col_by_cht_op:\n",
    "        col_by_cht_op.clear_output(wait=True)\n",
    "        col_by_obj(obj, col_name, desc)"
   ]
  },
  {
   "cell_type": "code",
   "execution_count": 8,
   "metadata": {},
   "outputs": [],
   "source": [
    "# Draw chart\n",
    "def draw_cht(obj, dropdown, col_by_obj, col_name, desc):\n",
    "    col_by_obj_cht_op = widgets.Output()\n",
    "    col_by_obj_db = widgets.VBox([dropdown, col_by_obj_cht_op])\n",
    "    col_by_obj_db.layout.align_items = 'center'\n",
    "    col_by_obj_output(obj, col_by_obj_cht_op, col_by_obj, col_name, desc)\n",
    "    display(col_by_obj_db)\n",
    "    dropdown.observe(lambda change: col_by_obj_output(change.new, col_by_obj_cht_op, col_by_obj, col_name, desc), names='value')"
   ]
  },
  {
   "cell_type": "code",
   "execution_count": 9,
   "metadata": {},
   "outputs": [],
   "source": [
    "year_dropdown = crt_dropdown(COL_NAME_ARR_DATE_Y, 'Year')\n",
    "mkt_seg_dropdown = crt_dropdown(COL_NAME_MKT_SEG, COL_NAME_MKT_SEG)\n",
    "cust_type_dropdown = crt_dropdown(COL_NAME_CUST_TYPE, COL_NAME_CUST_TYPE)"
   ]
  },
  {
   "cell_type": "code",
   "execution_count": 10,
   "metadata": {},
   "outputs": [
    {
     "data": {
      "text/plain": [
       "count          79536\n",
       "unique             2\n",
       "top       City Hotel\n",
       "freq           51765\n",
       "Name: Hotel, dtype: object"
      ]
     },
     "execution_count": 10,
     "metadata": {},
     "output_type": "execute_result"
    }
   ],
   "source": [
    "df[COL_NAME_HTL].describe()"
   ]
  },
  {
   "cell_type": "code",
   "execution_count": 11,
   "metadata": {},
   "outputs": [],
   "source": [
    "# Hotel by object\n",
    "def htl_by_obj(obj, col_name, desc):\n",
    "    if obj == 'All':\n",
    "        df_filtered = df\n",
    "    else:\n",
    "        df_filtered = df[df[col_name] == obj]\n",
    "    hotel_counts = df_filtered[COL_NAME_HTL].value_counts()\n",
    "    _, ax = plt.subplots()\n",
    "    wedges, _, _ = ax.pie(hotel_counts, labels=hotel_counts.index, wedgeprops=dict(width=0.7), counterclock=False, colors=sns.color_palette('Set2'), autopct='%1.1f%%', pctdistance=0.75)\n",
    "    p = plt.gcf()\n",
    "    p.gca().add_artist(plt.Circle((0, 0), 0.5, color='white'))\n",
    "    plt.setp(wedges, edgecolor='white', linewidth=1.5)\n",
    "    ax.set_title(f'Donut chart of {COL_NAME_HTL} by {desc} ({obj})')\n",
    "    plt.show()"
   ]
  },
  {
   "cell_type": "code",
   "execution_count": 12,
   "metadata": {},
   "outputs": [
    {
     "data": {
      "application/vnd.jupyter.widget-view+json": {
       "model_id": "9009b94b1cbb4c97b744dca37584e3ba",
       "version_major": 2,
       "version_minor": 0
      },
      "text/plain": [
       "VBox(children=(Dropdown(description='Year: ', index=3, layout=Layout(margin='0 auto', width='15%'), options=(2…"
      ]
     },
     "metadata": {},
     "output_type": "display_data"
    }
   ],
   "source": [
    "draw_cht('All', year_dropdown, htl_by_obj, COL_NAME_ARR_DATE_Y, 'Year')"
   ]
  },
  {
   "cell_type": "code",
   "execution_count": 13,
   "metadata": {},
   "outputs": [
    {
     "data": {
      "application/vnd.jupyter.widget-view+json": {
       "model_id": "55910b4f7cd84547b4a40dabef771a93",
       "version_major": 2,
       "version_minor": 0
      },
      "text/plain": [
       "VBox(children=(Dropdown(description='Market Segment: ', index=7, layout=Layout(margin='0 auto', width='15%'), …"
      ]
     },
     "metadata": {},
     "output_type": "display_data"
    }
   ],
   "source": [
    "draw_cht('All', mkt_seg_dropdown, htl_by_obj, COL_NAME_MKT_SEG, COL_NAME_MKT_SEG)"
   ]
  },
  {
   "cell_type": "code",
   "execution_count": 14,
   "metadata": {},
   "outputs": [
    {
     "data": {
      "application/vnd.jupyter.widget-view+json": {
       "model_id": "ccc1079d66b84613b97c750042bcbef3",
       "version_major": 2,
       "version_minor": 0
      },
      "text/plain": [
       "VBox(children=(Dropdown(description='Customer Type: ', index=4, layout=Layout(margin='0 auto', width='15%'), o…"
      ]
     },
     "metadata": {},
     "output_type": "display_data"
    }
   ],
   "source": [
    "draw_cht('All', cust_type_dropdown, htl_by_obj, COL_NAME_CUST_TYPE, COL_NAME_CUST_TYPE)"
   ]
  },
  {
   "cell_type": "code",
   "execution_count": 15,
   "metadata": {},
   "outputs": [
    {
     "data": {
      "text/plain": [
       "count    79536.000000\n",
       "mean        82.882167\n",
       "std         86.205572\n",
       "min          0.000000\n",
       "25%         14.000000\n",
       "50%         54.000000\n",
       "75%        129.000000\n",
       "max        709.000000\n",
       "Name: Lead Time, dtype: float64"
      ]
     },
     "execution_count": 15,
     "metadata": {},
     "output_type": "execute_result"
    }
   ],
   "source": [
    "df[COL_NAME_LEAD_TIME].describe()"
   ]
  },
  {
   "cell_type": "code",
   "execution_count": 16,
   "metadata": {},
   "outputs": [],
   "source": [
    "# Lead Time by object\n",
    "def lead_time_by_obj(obj, col_name, desc):\n",
    "    if obj == 'All':\n",
    "        df_filtered = df\n",
    "    else:\n",
    "        df_filtered = df[df[col_name] == obj]\n",
    "    plt.hist(data=df_filtered, x='Lead Time', bins=24, range=(0, 720), color='#86bf91', edgecolor='black')\n",
    "    plt.xlabel(COL_NAME_LEAD_TIME)\n",
    "    plt.ylabel('Frequency')\n",
    "    plt.title(f'Histogram of {COL_NAME_LEAD_TIME} by {desc} ({obj})')\n",
    "    plt.xticks(range(0, 730, 90))\n",
    "    plt.grid(alpha=0.3)\n",
    "    plt.show()"
   ]
  },
  {
   "cell_type": "code",
   "execution_count": 17,
   "metadata": {},
   "outputs": [
    {
     "data": {
      "application/vnd.jupyter.widget-view+json": {
       "model_id": "a85948bd37a244bc90557b41389cf78a",
       "version_major": 2,
       "version_minor": 0
      },
      "text/plain": [
       "VBox(children=(Dropdown(description='Year: ', index=3, layout=Layout(margin='0 auto', width='15%'), options=(2…"
      ]
     },
     "metadata": {},
     "output_type": "display_data"
    }
   ],
   "source": [
    "draw_cht('All', year_dropdown, lead_time_by_obj, COL_NAME_ARR_DATE_Y, 'Year')"
   ]
  },
  {
   "cell_type": "code",
   "execution_count": 18,
   "metadata": {},
   "outputs": [
    {
     "data": {
      "application/vnd.jupyter.widget-view+json": {
       "model_id": "8bfd8f19a424474a8193520c15d476ae",
       "version_major": 2,
       "version_minor": 0
      },
      "text/plain": [
       "VBox(children=(Dropdown(description='Market Segment: ', index=7, layout=Layout(margin='0 auto', width='15%'), …"
      ]
     },
     "metadata": {},
     "output_type": "display_data"
    }
   ],
   "source": [
    "draw_cht('All', mkt_seg_dropdown, lead_time_by_obj, COL_NAME_MKT_SEG, COL_NAME_MKT_SEG)"
   ]
  },
  {
   "cell_type": "code",
   "execution_count": 19,
   "metadata": {},
   "outputs": [
    {
     "data": {
      "application/vnd.jupyter.widget-view+json": {
       "model_id": "191f4b92713a48689535444fffe24ee1",
       "version_major": 2,
       "version_minor": 0
      },
      "text/plain": [
       "VBox(children=(Dropdown(description='Customer Type: ', index=4, layout=Layout(margin='0 auto', width='15%'), o…"
      ]
     },
     "metadata": {},
     "output_type": "display_data"
    }
   ],
   "source": [
    "draw_cht('All', cust_type_dropdown, lead_time_by_obj, COL_NAME_CUST_TYPE, COL_NAME_CUST_TYPE)"
   ]
  },
  {
   "cell_type": "code",
   "execution_count": 20,
   "metadata": {},
   "outputs": [
    {
     "data": {
      "text/plain": [
       "count    79536.000000\n",
       "mean        15.837885\n",
       "std          8.850068\n",
       "min          1.000000\n",
       "25%          8.000000\n",
       "50%         16.000000\n",
       "75%         24.000000\n",
       "max         31.000000\n",
       "Name: Arrival Date Day, dtype: float64"
      ]
     },
     "execution_count": 20,
     "metadata": {},
     "output_type": "execute_result"
    }
   ],
   "source": [
    "df[COL_NAME_ARR_DATE_D].describe()"
   ]
  },
  {
   "cell_type": "code",
   "execution_count": 21,
   "metadata": {},
   "outputs": [
    {
     "data": {
      "text/plain": [
       "count      79536\n",
       "unique        12\n",
       "top       August\n",
       "freq       11026\n",
       "Name: Arrival Date Month, dtype: object"
      ]
     },
     "execution_count": 21,
     "metadata": {},
     "output_type": "execute_result"
    }
   ],
   "source": [
    "df[COL_NAME_ARR_DATE_M].describe()"
   ]
  },
  {
   "cell_type": "code",
   "execution_count": 22,
   "metadata": {},
   "outputs": [],
   "source": [
    "# Arrival by object\n",
    "def arr_by_obj(obj, col_name, desc):\n",
    "    if obj == 'All':\n",
    "        df_filtered = df\n",
    "    else:\n",
    "        df_filtered = df[df[col_name] == obj]\n",
    "    _, (ax1, ax2) = plt.subplots(2, 1)\n",
    "    df_filtered[COL_NAME_ARR_DATE_D].value_counts().sort_index().plot(kind='bar', figsize=(10, 5), color='#86bf91', edgecolor='black', ax=ax1)\n",
    "    ax1.set_xlabel(COL_NAME_ARR_DATE_D)\n",
    "    ax1.set_ylabel('Frequency')\n",
    "    ax1.set_title(f'Bar plot of {COL_NAME_ARR_DATE_D} by {desc} ({obj})')\n",
    "    ax1.set_xticks(ax1.get_xticks())\n",
    "    ax1.set_xticklabels(ax1.get_xticklabels(), rotation=0)\n",
    "    ax1.grid(alpha=0.3)\n",
    "    df_filtered[COL_NAME_ARR_DATE_M].astype(CategoricalDtype(categories=month_order, ordered=True)).value_counts().sort_index().plot(kind='bar', color='#86bf91', edgecolor='black', ax=ax2)\n",
    "    ax2.set_xlabel(COL_NAME_ARR_DATE_M)\n",
    "    ax2.set_ylabel('Frequency')\n",
    "    ax2.set_title(f'Bar plot of {COL_NAME_ARR_DATE_M} by {desc} ({obj})')\n",
    "    ax2.grid(alpha=0.3)\n",
    "    plt.subplots_adjust(hspace=0.5)\n",
    "    plt.show()"
   ]
  },
  {
   "cell_type": "code",
   "execution_count": 23,
   "metadata": {},
   "outputs": [
    {
     "data": {
      "application/vnd.jupyter.widget-view+json": {
       "model_id": "7b4ace76aefa41f5815b4b667b41e30a",
       "version_major": 2,
       "version_minor": 0
      },
      "text/plain": [
       "VBox(children=(Dropdown(description='Year: ', index=3, layout=Layout(margin='0 auto', width='15%'), options=(2…"
      ]
     },
     "metadata": {},
     "output_type": "display_data"
    }
   ],
   "source": [
    "draw_cht('All', year_dropdown, arr_by_obj, COL_NAME_ARR_DATE_Y, 'Year')"
   ]
  },
  {
   "cell_type": "code",
   "execution_count": 24,
   "metadata": {},
   "outputs": [
    {
     "data": {
      "application/vnd.jupyter.widget-view+json": {
       "model_id": "684ba8091fd04efb8e0874e7720fcbe3",
       "version_major": 2,
       "version_minor": 0
      },
      "text/plain": [
       "VBox(children=(Dropdown(description='Market Segment: ', index=7, layout=Layout(margin='0 auto', width='15%'), …"
      ]
     },
     "metadata": {},
     "output_type": "display_data"
    }
   ],
   "source": [
    "draw_cht('All', mkt_seg_dropdown, arr_by_obj, COL_NAME_MKT_SEG, COL_NAME_MKT_SEG)"
   ]
  },
  {
   "cell_type": "code",
   "execution_count": 25,
   "metadata": {},
   "outputs": [
    {
     "data": {
      "application/vnd.jupyter.widget-view+json": {
       "model_id": "3d721fa71cae48108dbdd7bda6c91b66",
       "version_major": 2,
       "version_minor": 0
      },
      "text/plain": [
       "VBox(children=(Dropdown(description='Customer Type: ', index=4, layout=Layout(margin='0 auto', width='15%'), o…"
      ]
     },
     "metadata": {},
     "output_type": "display_data"
    }
   ],
   "source": [
    "draw_cht('All', cust_type_dropdown, arr_by_obj, COL_NAME_CUST_TYPE, COL_NAME_CUST_TYPE)"
   ]
  },
  {
   "cell_type": "code",
   "execution_count": 26,
   "metadata": {},
   "outputs": [
    {
     "data": {
      "text/plain": [
       "count    79536.000000\n",
       "mean      2016.227092\n",
       "std          0.682190\n",
       "min       2015.000000\n",
       "25%       2016.000000\n",
       "50%       2016.000000\n",
       "75%       2017.000000\n",
       "max       2017.000000\n",
       "Name: Arrival Date Year, dtype: float64"
      ]
     },
     "execution_count": 26,
     "metadata": {},
     "output_type": "execute_result"
    }
   ],
   "source": [
    "df[COL_NAME_ARR_DATE_Y].describe()"
   ]
  },
  {
   "cell_type": "code",
   "execution_count": 27,
   "metadata": {},
   "outputs": [],
   "source": [
    "# Arrival Date Year by object\n",
    "def arr_date_year_by_obj(obj, col_name, desc):\n",
    "    if obj == 'All':\n",
    "        df_filtered = df\n",
    "    else:\n",
    "        df_filtered = df[df[col_name] == obj]\n",
    "    df_filtered[COL_NAME_ARR_DATE_Y].value_counts().sort_index().plot(kind='bar', color='#86bf91', edgecolor='black')\n",
    "    plt.xlabel(COL_NAME_ARR_DATE_Y)\n",
    "    plt.ylabel('Frequency')\n",
    "    plt.title(f'Bar plot of {COL_NAME_ARR_DATE_Y} by {desc} ({obj})')\n",
    "    plt.xticks(rotation=0)\n",
    "    plt.grid(alpha=0.3)\n",
    "    plt.show()"
   ]
  },
  {
   "cell_type": "code",
   "execution_count": 28,
   "metadata": {},
   "outputs": [
    {
     "data": {
      "application/vnd.jupyter.widget-view+json": {
       "model_id": "4658dee85c334ff0905cedcc3500ab3d",
       "version_major": 2,
       "version_minor": 0
      },
      "text/plain": [
       "VBox(children=(Dropdown(description='Market Segment: ', index=7, layout=Layout(margin='0 auto', width='15%'), …"
      ]
     },
     "metadata": {},
     "output_type": "display_data"
    }
   ],
   "source": [
    "draw_cht('All', mkt_seg_dropdown, arr_date_year_by_obj, COL_NAME_MKT_SEG, COL_NAME_MKT_SEG)"
   ]
  },
  {
   "cell_type": "code",
   "execution_count": 29,
   "metadata": {},
   "outputs": [
    {
     "data": {
      "application/vnd.jupyter.widget-view+json": {
       "model_id": "8a82cc3dade0430894887978083e30fa",
       "version_major": 2,
       "version_minor": 0
      },
      "text/plain": [
       "VBox(children=(Dropdown(description='Customer Type: ', index=4, layout=Layout(margin='0 auto', width='15%'), o…"
      ]
     },
     "metadata": {},
     "output_type": "display_data"
    }
   ],
   "source": [
    "draw_cht('All', cust_type_dropdown, arr_date_year_by_obj, COL_NAME_CUST_TYPE, COL_NAME_CUST_TYPE)"
   ]
  },
  {
   "cell_type": "code",
   "execution_count": 30,
   "metadata": {},
   "outputs": [
    {
     "data": {
      "text/plain": [
       "count     79536\n",
       "unique      175\n",
       "top         PRT\n",
       "freq      23142\n",
       "Name: Country, dtype: object"
      ]
     },
     "execution_count": 30,
     "metadata": {},
     "output_type": "execute_result"
    }
   ],
   "source": [
    "df[COL_NAME_CNTRY].describe()"
   ]
  },
  {
   "cell_type": "code",
   "execution_count": 31,
   "metadata": {},
   "outputs": [],
   "source": [
    "# Country by object\n",
    "def cntry_by_obj(obj, col_name, desc):\n",
    "    if obj == 'All':\n",
    "        df_filtered = merged_df\n",
    "    else:\n",
    "        df_filtered = merged_df[merged_df[col_name] == obj]\n",
    "    df_filtered[COL_NAME_CNTRY_NAME].value_counts().head(10).plot(kind='bar', color='#86bf91', edgecolor='black')\n",
    "    plt.xlabel(COL_NAME_CNTRY)\n",
    "    plt.ylabel('Number of bookings')\n",
    "    plt.title(f'Top 10 Countries with highest number of bookings by {desc} ({obj})')\n",
    "    plt.grid(alpha=0.3)\n",
    "    plt.show()"
   ]
  },
  {
   "cell_type": "code",
   "execution_count": 32,
   "metadata": {},
   "outputs": [
    {
     "data": {
      "application/vnd.jupyter.widget-view+json": {
       "model_id": "71838c2a016b469e963ff5bc37781c46",
       "version_major": 2,
       "version_minor": 0
      },
      "text/plain": [
       "VBox(children=(Dropdown(description='Year: ', index=3, layout=Layout(margin='0 auto', width='15%'), options=(2…"
      ]
     },
     "metadata": {},
     "output_type": "display_data"
    }
   ],
   "source": [
    "draw_cht('All', year_dropdown, cntry_by_obj, COL_NAME_ARR_DATE_Y, 'Year')"
   ]
  },
  {
   "cell_type": "code",
   "execution_count": 33,
   "metadata": {},
   "outputs": [
    {
     "data": {
      "application/vnd.jupyter.widget-view+json": {
       "model_id": "cddf6eabd8d843f9b9f93637c4dee94d",
       "version_major": 2,
       "version_minor": 0
      },
      "text/plain": [
       "VBox(children=(Dropdown(description='Market Segment: ', index=7, layout=Layout(margin='0 auto', width='15%'), …"
      ]
     },
     "metadata": {},
     "output_type": "display_data"
    }
   ],
   "source": [
    "draw_cht('All', mkt_seg_dropdown, cntry_by_obj, COL_NAME_MKT_SEG, COL_NAME_MKT_SEG)"
   ]
  },
  {
   "cell_type": "code",
   "execution_count": 34,
   "metadata": {},
   "outputs": [
    {
     "data": {
      "application/vnd.jupyter.widget-view+json": {
       "model_id": "2d964a75ab394ff1a7a5c8f50b7d6728",
       "version_major": 2,
       "version_minor": 0
      },
      "text/plain": [
       "VBox(children=(Dropdown(description='Customer Type: ', index=4, layout=Layout(margin='0 auto', width='15%'), o…"
      ]
     },
     "metadata": {},
     "output_type": "display_data"
    }
   ],
   "source": [
    "draw_cht('All', cust_type_dropdown, cntry_by_obj, COL_NAME_CUST_TYPE, COL_NAME_CUST_TYPE)"
   ]
  },
  {
   "cell_type": "code",
   "execution_count": 35,
   "metadata": {},
   "outputs": [
    {
     "data": {
      "text/plain": [
       "count    79536.000000\n",
       "mean         1.913310\n",
       "std          0.481261\n",
       "min          0.000000\n",
       "25%          2.000000\n",
       "50%          2.000000\n",
       "75%          2.000000\n",
       "max          4.000000\n",
       "Name: Adults, dtype: float64"
      ]
     },
     "execution_count": 35,
     "metadata": {},
     "output_type": "execute_result"
    }
   ],
   "source": [
    "df[COL_NAME_ADT].describe()"
   ]
  },
  {
   "cell_type": "code",
   "execution_count": 36,
   "metadata": {},
   "outputs": [
    {
     "data": {
      "text/plain": [
       "count    79536.000000\n",
       "mean         0.144136\n",
       "std          0.460901\n",
       "min          0.000000\n",
       "25%          0.000000\n",
       "50%          0.000000\n",
       "75%          0.000000\n",
       "max          3.000000\n",
       "Name: Children, dtype: float64"
      ]
     },
     "execution_count": 36,
     "metadata": {},
     "output_type": "execute_result"
    }
   ],
   "source": [
    "df[COL_NAME_CHLDN].describe()"
   ]
  },
  {
   "cell_type": "code",
   "execution_count": 37,
   "metadata": {},
   "outputs": [],
   "source": [
    "# Guest by object\n",
    "def guest_by_obj(obj, col_name, desc):\n",
    "    if obj == 'All':\n",
    "        df_filtered = df\n",
    "    else:\n",
    "        df_filtered = df[df[col_name] == obj]\n",
    "    _, (ax1, ax2) = plt.subplots(1, 2, figsize=(15, 5))\n",
    "    df_filtered[COL_NAME_ADT].value_counts().sort_index().plot(kind='bar', color='#86bf91', edgecolor='black', ax=ax1)\n",
    "    ax1.set_xlabel(f'Number of {COL_NAME_ADT}')\n",
    "    ax1.set_ylabel('Frequency')\n",
    "    ax1.set_title(f'Bar plot of number of {COL_NAME_ADT} by {desc} ({obj})')\n",
    "    ax1.set_xticks(ax1.get_xticks())\n",
    "    ax1.set_xticklabels(ax1.get_xticklabels(), rotation=0)\n",
    "    ax1.grid(alpha=0.3)\n",
    "    df_filtered[COL_NAME_CHLDN].value_counts().sort_index().plot(kind='bar', color='#86bf91', edgecolor='black', ax=ax2)\n",
    "    ax2.set_xlabel(f'Number of {COL_NAME_CHLDN}')\n",
    "    ax2.set_ylabel('Frequency')\n",
    "    ax2.set_title(f'Bar plot of number of {COL_NAME_CHLDN} by {desc} ({obj})')\n",
    "    ax2.set_xticks(ax2.get_xticks())\n",
    "    ax2.set_xticklabels(ax2.get_xticklabels(), rotation=0)\n",
    "    ax2.grid(alpha=0.3)\n",
    "    plt.show()"
   ]
  },
  {
   "cell_type": "code",
   "execution_count": 38,
   "metadata": {},
   "outputs": [
    {
     "data": {
      "application/vnd.jupyter.widget-view+json": {
       "model_id": "3d0308f964884e14b8aba25c803bf174",
       "version_major": 2,
       "version_minor": 0
      },
      "text/plain": [
       "VBox(children=(Dropdown(description='Year: ', index=3, layout=Layout(margin='0 auto', width='15%'), options=(2…"
      ]
     },
     "metadata": {},
     "output_type": "display_data"
    }
   ],
   "source": [
    "draw_cht('All', year_dropdown, guest_by_obj, COL_NAME_ARR_DATE_Y, 'Year')"
   ]
  },
  {
   "cell_type": "code",
   "execution_count": 39,
   "metadata": {},
   "outputs": [
    {
     "data": {
      "application/vnd.jupyter.widget-view+json": {
       "model_id": "6d57d278ac47405998f66ab2d8d298bc",
       "version_major": 2,
       "version_minor": 0
      },
      "text/plain": [
       "VBox(children=(Dropdown(description='Market Segment: ', index=7, layout=Layout(margin='0 auto', width='15%'), …"
      ]
     },
     "metadata": {},
     "output_type": "display_data"
    }
   ],
   "source": [
    "draw_cht('All', mkt_seg_dropdown, guest_by_obj, COL_NAME_MKT_SEG, COL_NAME_MKT_SEG)"
   ]
  },
  {
   "cell_type": "code",
   "execution_count": 40,
   "metadata": {},
   "outputs": [
    {
     "data": {
      "application/vnd.jupyter.widget-view+json": {
       "model_id": "ddb517b19dd649b8881441a277d4c7a6",
       "version_major": 2,
       "version_minor": 0
      },
      "text/plain": [
       "VBox(children=(Dropdown(description='Customer Type: ', index=4, layout=Layout(margin='0 auto', width='15%'), o…"
      ]
     },
     "metadata": {},
     "output_type": "display_data"
    }
   ],
   "source": [
    "draw_cht('All', cust_type_dropdown, guest_by_obj, COL_NAME_CUST_TYPE, COL_NAME_CUST_TYPE)"
   ]
  },
  {
   "cell_type": "code",
   "execution_count": 41,
   "metadata": {},
   "outputs": [
    {
     "data": {
      "text/plain": [
       "count         79536\n",
       "unique            7\n",
       "top       Online TA\n",
       "freq          49564\n",
       "Name: Market Segment, dtype: object"
      ]
     },
     "execution_count": 41,
     "metadata": {},
     "output_type": "execute_result"
    }
   ],
   "source": [
    "df[COL_NAME_MKT_SEG].describe()"
   ]
  },
  {
   "cell_type": "code",
   "execution_count": 42,
   "metadata": {},
   "outputs": [],
   "source": [
    "# Market Segment by object\n",
    "def mrk_seg_by_obj(obj, col_name, desc):\n",
    "    if obj == 'All':\n",
    "        df_filtered = df\n",
    "    else:\n",
    "        df_filtered = df[df[col_name] == obj]\n",
    "    df_filtered[COL_NAME_MKT_SEG].value_counts().plot(kind='bar', color='#86bf91', edgecolor='black')\n",
    "    plt.xlabel(COL_NAME_MKT_SEG)\n",
    "    plt.ylabel('Frequency')\n",
    "    plt.title(f'Bar plot of {COL_NAME_MKT_SEG} by {desc} ({obj})')\n",
    "    plt.grid(alpha=0.3)\n",
    "    plt.show()"
   ]
  },
  {
   "cell_type": "code",
   "execution_count": 43,
   "metadata": {},
   "outputs": [
    {
     "data": {
      "application/vnd.jupyter.widget-view+json": {
       "model_id": "ed0a1300e94d4858a4317946c511f841",
       "version_major": 2,
       "version_minor": 0
      },
      "text/plain": [
       "VBox(children=(Dropdown(description='Year: ', index=3, layout=Layout(margin='0 auto', width='15%'), options=(2…"
      ]
     },
     "metadata": {},
     "output_type": "display_data"
    }
   ],
   "source": [
    "draw_cht('All', year_dropdown, mrk_seg_by_obj, COL_NAME_ARR_DATE_Y, 'Year')"
   ]
  },
  {
   "cell_type": "code",
   "execution_count": 44,
   "metadata": {},
   "outputs": [
    {
     "data": {
      "application/vnd.jupyter.widget-view+json": {
       "model_id": "ec5bb4445846419ab77b4ad7038ecbdf",
       "version_major": 2,
       "version_minor": 0
      },
      "text/plain": [
       "VBox(children=(Dropdown(description='Customer Type: ', index=4, layout=Layout(margin='0 auto', width='15%'), o…"
      ]
     },
     "metadata": {},
     "output_type": "display_data"
    }
   ],
   "source": [
    "draw_cht('All', cust_type_dropdown, mrk_seg_by_obj, COL_NAME_CUST_TYPE, COL_NAME_CUST_TYPE)"
   ]
  },
  {
   "cell_type": "code",
   "execution_count": 45,
   "metadata": {},
   "outputs": [
    {
     "data": {
      "text/plain": [
       "count     79536\n",
       "unique      324\n",
       "top           9\n",
       "freq      28438\n",
       "Name: Agent, dtype: object"
      ]
     },
     "execution_count": 45,
     "metadata": {},
     "output_type": "execute_result"
    }
   ],
   "source": [
    "df[COL_NAME_AGT].describe()"
   ]
  },
  {
   "cell_type": "code",
   "execution_count": 46,
   "metadata": {},
   "outputs": [],
   "source": [
    "# Agent by object\n",
    "def agt_by_obj(obj, col_name, desc):\n",
    "    if obj == 'All':\n",
    "        df_filtered = df\n",
    "    else:\n",
    "        df_filtered = df[df[col_name] == obj]\n",
    "    df_filtered[COL_NAME_AGT].value_counts().sort_values(ascending=False).head(10).plot(kind='bar', color='#86bf91', edgecolor='black')\n",
    "    plt.xlabel(COL_NAME_AGT)\n",
    "    plt.ylabel('Number of bookings')\n",
    "    plt.title(f'Top 10 Agents with highest number of bookings by {desc} by ({obj})')\n",
    "    plt.xticks(rotation=0)\n",
    "    plt.grid(alpha=0.3)\n",
    "    plt.show()"
   ]
  },
  {
   "cell_type": "code",
   "execution_count": 47,
   "metadata": {},
   "outputs": [
    {
     "data": {
      "application/vnd.jupyter.widget-view+json": {
       "model_id": "7104dbce7b334d8aba065d030cca0f4f",
       "version_major": 2,
       "version_minor": 0
      },
      "text/plain": [
       "VBox(children=(Dropdown(description='Year: ', index=3, layout=Layout(margin='0 auto', width='15%'), options=(2…"
      ]
     },
     "metadata": {},
     "output_type": "display_data"
    }
   ],
   "source": [
    "draw_cht('All', year_dropdown, agt_by_obj, COL_NAME_ARR_DATE_Y, 'Year')"
   ]
  },
  {
   "cell_type": "code",
   "execution_count": 48,
   "metadata": {},
   "outputs": [
    {
     "data": {
      "application/vnd.jupyter.widget-view+json": {
       "model_id": "c6b8ba7ddf304ca5ac06c883187577f9",
       "version_major": 2,
       "version_minor": 0
      },
      "text/plain": [
       "VBox(children=(Dropdown(description='Market Segment: ', index=7, layout=Layout(margin='0 auto', width='15%'), …"
      ]
     },
     "metadata": {},
     "output_type": "display_data"
    }
   ],
   "source": [
    "draw_cht('All', mkt_seg_dropdown, agt_by_obj, COL_NAME_MKT_SEG, COL_NAME_MKT_SEG)"
   ]
  },
  {
   "cell_type": "code",
   "execution_count": 49,
   "metadata": {},
   "outputs": [
    {
     "data": {
      "application/vnd.jupyter.widget-view+json": {
       "model_id": "62df945b94384e0c8e8597ad4ac7a962",
       "version_major": 2,
       "version_minor": 0
      },
      "text/plain": [
       "VBox(children=(Dropdown(description='Customer Type: ', index=4, layout=Layout(margin='0 auto', width='15%'), o…"
      ]
     },
     "metadata": {},
     "output_type": "display_data"
    }
   ],
   "source": [
    "draw_cht('All', cust_type_dropdown, agt_by_obj, COL_NAME_CUST_TYPE, COL_NAME_CUST_TYPE)"
   ]
  },
  {
   "cell_type": "code",
   "execution_count": 50,
   "metadata": {},
   "outputs": [
    {
     "data": {
      "text/plain": [
       "count         79536\n",
       "unique            4\n",
       "top       Transient\n",
       "freq          65915\n",
       "Name: Customer Type, dtype: object"
      ]
     },
     "execution_count": 50,
     "metadata": {},
     "output_type": "execute_result"
    }
   ],
   "source": [
    "df[COL_NAME_CUST_TYPE].describe()"
   ]
  },
  {
   "cell_type": "code",
   "execution_count": 51,
   "metadata": {},
   "outputs": [],
   "source": [
    "# Customer Type by object\n",
    "def cust_type_by_obj(obj, col_name, desc):\n",
    "    if obj == 'All':\n",
    "        df_filtered = df\n",
    "    else:\n",
    "        df_filtered = df[df[col_name] == obj]\n",
    "    df_filtered[COL_NAME_CUST_TYPE].value_counts().plot(kind='bar', color='#86bf91', edgecolor='black')\n",
    "    plt.xlabel(COL_NAME_CUST_TYPE)\n",
    "    plt.ylabel('Frequency')\n",
    "    plt.title(f'Bar plot of {COL_NAME_CUST_TYPE} by {desc} ({obj})')\n",
    "    plt.xticks(rotation=0)\n",
    "    plt.grid(alpha=0.3)\n",
    "    plt.show()"
   ]
  },
  {
   "cell_type": "code",
   "execution_count": 52,
   "metadata": {},
   "outputs": [
    {
     "data": {
      "application/vnd.jupyter.widget-view+json": {
       "model_id": "14be88c187344ad08ea0696c41eae23d",
       "version_major": 2,
       "version_minor": 0
      },
      "text/plain": [
       "VBox(children=(Dropdown(description='Year: ', index=3, layout=Layout(margin='0 auto', width='15%'), options=(2…"
      ]
     },
     "metadata": {},
     "output_type": "display_data"
    }
   ],
   "source": [
    "draw_cht('All', year_dropdown, cust_type_by_obj, COL_NAME_ARR_DATE_Y, 'Year')"
   ]
  },
  {
   "cell_type": "code",
   "execution_count": 53,
   "metadata": {},
   "outputs": [
    {
     "data": {
      "application/vnd.jupyter.widget-view+json": {
       "model_id": "39e031142b0c4e9aba3490934457ece7",
       "version_major": 2,
       "version_minor": 0
      },
      "text/plain": [
       "VBox(children=(Dropdown(description='Market Segment: ', index=7, layout=Layout(margin='0 auto', width='15%'), …"
      ]
     },
     "metadata": {},
     "output_type": "display_data"
    }
   ],
   "source": [
    "draw_cht('All', mkt_seg_dropdown, cust_type_by_obj, COL_NAME_MKT_SEG, COL_NAME_MKT_SEG)"
   ]
  },
  {
   "cell_type": "code",
   "execution_count": 54,
   "metadata": {},
   "outputs": [
    {
     "data": {
      "text/plain": [
       "count    79536.000000\n",
       "mean       113.919918\n",
       "std         47.801892\n",
       "min         45.050000\n",
       "25%         79.200000\n",
       "50%        104.000000\n",
       "75%        138.550000\n",
       "max        510.000000\n",
       "Name: Average Daily Rate, dtype: float64"
      ]
     },
     "execution_count": 54,
     "metadata": {},
     "output_type": "execute_result"
    }
   ],
   "source": [
    "df[COL_NAME_AVG_DLY_RATE].describe()"
   ]
  },
  {
   "cell_type": "code",
   "execution_count": 55,
   "metadata": {},
   "outputs": [],
   "source": [
    "# Average Daily Rate by object\n",
    "def avg_dly_rate_by_obj(obj, col_name, desc):\n",
    "    if obj == 'All':\n",
    "        df_filtered = df\n",
    "    else:\n",
    "        df_filtered = df[df[col_name] == obj]\n",
    "    df_filtered[COL_NAME_AVG_DLY_RATE].hist(bins=22, range=(0, 550), color='#86bf91', edgecolor='black')\n",
    "    plt.xlabel(COL_NAME_AVG_DLY_RATE)\n",
    "    plt.ylabel('Frequency')\n",
    "    plt.title(f'Histogram of {COL_NAME_AVG_DLY_RATE} by {desc} ({obj})')\n",
    "    plt.xticks(range(0, 560, 50))\n",
    "    plt.grid(alpha=0.3)\n",
    "    plt.show()"
   ]
  },
  {
   "cell_type": "code",
   "execution_count": 56,
   "metadata": {},
   "outputs": [
    {
     "data": {
      "application/vnd.jupyter.widget-view+json": {
       "model_id": "a8a27da488ea4219b97cc2bff311d248",
       "version_major": 2,
       "version_minor": 0
      },
      "text/plain": [
       "VBox(children=(Dropdown(description='Year: ', index=3, layout=Layout(margin='0 auto', width='15%'), options=(2…"
      ]
     },
     "metadata": {},
     "output_type": "display_data"
    }
   ],
   "source": [
    "draw_cht('All', year_dropdown, avg_dly_rate_by_obj, COL_NAME_ARR_DATE_Y, 'Year')"
   ]
  },
  {
   "cell_type": "code",
   "execution_count": 57,
   "metadata": {},
   "outputs": [
    {
     "data": {
      "application/vnd.jupyter.widget-view+json": {
       "model_id": "f40bbbac1f0c49dca939355721a5af32",
       "version_major": 2,
       "version_minor": 0
      },
      "text/plain": [
       "VBox(children=(Dropdown(description='Market Segment: ', index=7, layout=Layout(margin='0 auto', width='15%'), …"
      ]
     },
     "metadata": {},
     "output_type": "display_data"
    }
   ],
   "source": [
    "draw_cht('All', mkt_seg_dropdown, avg_dly_rate_by_obj, COL_NAME_MKT_SEG, COL_NAME_MKT_SEG)"
   ]
  },
  {
   "cell_type": "code",
   "execution_count": 58,
   "metadata": {},
   "outputs": [
    {
     "data": {
      "application/vnd.jupyter.widget-view+json": {
       "model_id": "e86bb30cf7104033a85228e6dfd4f243",
       "version_major": 2,
       "version_minor": 0
      },
      "text/plain": [
       "VBox(children=(Dropdown(description='Customer Type: ', index=4, layout=Layout(margin='0 auto', width='15%'), o…"
      ]
     },
     "metadata": {},
     "output_type": "display_data"
    }
   ],
   "source": [
    "draw_cht('All', cust_type_dropdown, avg_dly_rate_by_obj, COL_NAME_CUST_TYPE, COL_NAME_CUST_TYPE)"
   ]
  },
  {
   "cell_type": "code",
   "execution_count": 59,
   "metadata": {},
   "outputs": [],
   "source": [
    "# Hotel & Lead Time by object\n",
    "def htl_lead_time_by_obj(obj, col_name, desc):\n",
    "    if obj == 'All':\n",
    "        df_filtered = df\n",
    "    else:\n",
    "        df_filtered = df[df[col_name] == obj]\n",
    "    sns.kdeplot(data=df_filtered, x=COL_NAME_LEAD_TIME, hue=COL_NAME_HTL, fill=True, palette=list(reversed(sns.color_palette('Set2', n_colors=len(df[COL_NAME_HTL].unique())))))\n",
    "    plt.title(f'Kernel density estimation of {COL_NAME_LEAD_TIME} and {COL_NAME_HTL} by {desc} ({obj})')\n",
    "    plt.grid(alpha=0.3)\n",
    "    plt.show()"
   ]
  },
  {
   "cell_type": "code",
   "execution_count": 60,
   "metadata": {},
   "outputs": [
    {
     "data": {
      "application/vnd.jupyter.widget-view+json": {
       "model_id": "a5257e40791048e78bfba69d165cc628",
       "version_major": 2,
       "version_minor": 0
      },
      "text/plain": [
       "VBox(children=(Dropdown(description='Year: ', index=3, layout=Layout(margin='0 auto', width='15%'), options=(2…"
      ]
     },
     "metadata": {},
     "output_type": "display_data"
    }
   ],
   "source": [
    "draw_cht('All', year_dropdown, htl_lead_time_by_obj, COL_NAME_ARR_DATE_Y, 'Year')"
   ]
  },
  {
   "cell_type": "code",
   "execution_count": 61,
   "metadata": {},
   "outputs": [],
   "source": [
    "# Hotel & Arrival by object\n",
    "def htl_arr_by_obj(obj, col_name, desc):\n",
    "    if obj == 'All':\n",
    "        df_filtered = df\n",
    "    else:\n",
    "        df_filtered = df[df[col_name] == obj]\n",
    "    _, (ax1, ax2) = plt.subplots(1, 2, figsize=(15, 5))\n",
    "    sns.lineplot(x=COL_NAME_ARR_DATE_D, y='Booking Count', hue=COL_NAME_HTL, data=df_filtered.groupby([COL_NAME_HTL, COL_NAME_ARR_DATE_D]).size().reset_index(name='Booking Count'), palette='Set2', ax=ax1)\n",
    "    ax1.set_title(f'Line plot of booking count of {COL_NAME_HTL} and {COL_NAME_ARR_DATE_D} by {desc} ({obj})')\n",
    "    ax1.grid(alpha=0.3)\n",
    "    htl_month_df = df_filtered.groupby([COL_NAME_HTL, COL_NAME_ARR_DATE_M]).size().reset_index(name='Booking Count')\n",
    "    htl_month_df[COL_NAME_ARR_DATE_M] = pd.Categorical(htl_month_df[COL_NAME_ARR_DATE_M], categories=month_order, ordered=True)\n",
    "    htl_month_df = htl_month_df.sort_values([COL_NAME_ARR_DATE_M])\n",
    "    sns.lineplot(x=COL_NAME_ARR_DATE_M, y='Booking Count', hue=COL_NAME_HTL, data=htl_month_df, palette='Set2', ax=ax2)\n",
    "    ax2.set_title(f'Line plot of {COL_NAME_HTL} and {COL_NAME_ARR_DATE_M} by {desc} ({obj})')\n",
    "    ax2.set_xticks(ax2.get_xticks())\n",
    "    ax2.set_xticklabels(month_order, rotation=90)\n",
    "    ax2.grid(alpha=0.3)\n",
    "    plt.show()"
   ]
  },
  {
   "cell_type": "code",
   "execution_count": 62,
   "metadata": {},
   "outputs": [
    {
     "data": {
      "application/vnd.jupyter.widget-view+json": {
       "model_id": "a36bb42f7c5a411fb707dfff6a6c997e",
       "version_major": 2,
       "version_minor": 0
      },
      "text/plain": [
       "VBox(children=(Dropdown(description='Year: ', index=3, layout=Layout(margin='0 auto', width='15%'), options=(2…"
      ]
     },
     "metadata": {},
     "output_type": "display_data"
    }
   ],
   "source": [
    "draw_cht('All', year_dropdown, htl_arr_by_obj, COL_NAME_ARR_DATE_Y, 'Year')"
   ]
  },
  {
   "cell_type": "code",
   "execution_count": 63,
   "metadata": {},
   "outputs": [
    {
     "data": {
      "application/vnd.jupyter.widget-view+json": {
       "model_id": "c485a8b6d9e541aab8851131593283e8",
       "version_major": 2,
       "version_minor": 0
      },
      "text/plain": [
       "VBox(children=(Dropdown(description='Market Segment: ', index=7, layout=Layout(margin='0 auto', width='15%'), …"
      ]
     },
     "metadata": {},
     "output_type": "display_data"
    }
   ],
   "source": [
    "draw_cht('All', mkt_seg_dropdown, htl_arr_by_obj, COL_NAME_MKT_SEG, COL_NAME_MKT_SEG)"
   ]
  },
  {
   "cell_type": "code",
   "execution_count": 64,
   "metadata": {},
   "outputs": [
    {
     "data": {
      "application/vnd.jupyter.widget-view+json": {
       "model_id": "804c17265c9941279c95299cb44a208b",
       "version_major": 2,
       "version_minor": 0
      },
      "text/plain": [
       "VBox(children=(Dropdown(description='Customer Type: ', index=4, layout=Layout(margin='0 auto', width='15%'), o…"
      ]
     },
     "metadata": {},
     "output_type": "display_data"
    }
   ],
   "source": [
    "draw_cht('All', cust_type_dropdown, htl_arr_by_obj, COL_NAME_CUST_TYPE, COL_NAME_CUST_TYPE)"
   ]
  },
  {
   "cell_type": "code",
   "execution_count": 99,
   "metadata": {},
   "outputs": [],
   "source": [
    "# Hotel & Arrival Date Year by object\n",
    "def htl_arr_date_year_by_obj(obj, col_name, desc):\n",
    "    if obj == 'All':\n",
    "        df_filtered = df\n",
    "    else:\n",
    "        df_filtered = df[df[col_name] == obj]\n",
    "    year_df = df_filtered.groupby([COL_NAME_HTL, COL_NAME_ARR_DATE_Y]).size().reset_index(name='Booking Count')\n",
    "    year_df[COL_NAME_ARR_DATE_Y] = year_df[COL_NAME_ARR_DATE_Y]\n",
    "    sns.catplot(x=COL_NAME_ARR_DATE_Y,\n",
    "                y='Booking Count',\n",
    "                hue=COL_NAME_HTL,\n",
    "                data=year_df,\n",
    "                kind='bar',\n",
    "                palette='Set2')\n",
    "    plt.title(f'Booking count of {COL_NAME_HTL} and {COL_NAME_ARR_DATE_Y} by {desc} ({obj})')\n",
    "    plt.grid(alpha=0.3)\n",
    "    plt.show()"
   ]
  },
  {
   "cell_type": "code",
   "execution_count": 100,
   "metadata": {},
   "outputs": [
    {
     "data": {
      "application/vnd.jupyter.widget-view+json": {
       "model_id": "ef274e51fe5f4e90ad7ef8c0b13031e6",
       "version_major": 2,
       "version_minor": 0
      },
      "text/plain": [
       "VBox(children=(Dropdown(description='Market Segment: ', index=7, layout=Layout(margin='0 auto', width='15%'), …"
      ]
     },
     "metadata": {},
     "output_type": "display_data"
    }
   ],
   "source": [
    "draw_cht('All', mkt_seg_dropdown, htl_arr_date_year_by_obj, COL_NAME_MKT_SEG, COL_NAME_MKT_SEG)"
   ]
  },
  {
   "cell_type": "code",
   "execution_count": 67,
   "metadata": {},
   "outputs": [
    {
     "data": {
      "application/vnd.jupyter.widget-view+json": {
       "model_id": "1e776cddcfa84d4998c2f9551ac02722",
       "version_major": 2,
       "version_minor": 0
      },
      "text/plain": [
       "VBox(children=(Dropdown(description='Customer Type: ', index=4, layout=Layout(margin='0 auto', width='15%'), o…"
      ]
     },
     "metadata": {},
     "output_type": "display_data"
    }
   ],
   "source": [
    "draw_cht('All', cust_type_dropdown, htl_arr_date_year_by_obj, COL_NAME_CUST_TYPE, COL_NAME_CUST_TYPE)"
   ]
  },
  {
   "cell_type": "code",
   "execution_count": 68,
   "metadata": {},
   "outputs": [],
   "source": [
    "# Hotel & guest by object\n",
    "def htl_guest_by_obj(obj, col_name, desc):\n",
    "    if obj == 'All':\n",
    "        df_filtered = df\n",
    "    else:\n",
    "        df_filtered = df[df[col_name] == obj]\n",
    "    children_df = df_filtered.groupby([COL_NAME_HTL])[COL_NAME_CHLDN].sum().reset_index(name=f'Total {COL_NAME_CHLDN}')\n",
    "    adults_df = df_filtered.groupby([COL_NAME_HTL])[COL_NAME_ADT].sum().reset_index(name=f'Total {COL_NAME_ADT}')\n",
    "    _, ax = plt.subplots()\n",
    "    colors = sns.color_palette('Set2')\n",
    "    autopct = '%1.1f%%'\n",
    "    wedges_children, _, _ = ax.pie(children_df[f'Total {COL_NAME_CHLDN}'], wedgeprops=dict(width=0.6), counterclock=False, colors=colors, autopct=autopct, pctdistance=0.55)\n",
    "    wedges_adults, _, _ = ax.pie(adults_df[f'Total {COL_NAME_ADT}'], wedgeprops=dict(width=0.3), counterclock=False, colors=colors, autopct=autopct, pctdistance=0.85)\n",
    "    p=plt.gcf()\n",
    "    p.gca().add_artist(plt.Circle((0,0), 0.4, color='white'))\n",
    "    plt.setp(wedges_children, edgecolor='white', linewidth=1.5)\n",
    "    plt.setp(wedges_adults, edgecolor='white', linewidth=1.5)\n",
    "    ax.legend(wedges_adults, adults_df[COL_NAME_HTL], title=COL_NAME_HTL, loc=\"center left\", bbox_to_anchor=(1, 0, 0.5, 1))\n",
    "    ax.set_title(f'Total number of {COL_NAME_ADT} with {COL_NAME_CHLDN} and {COL_NAME_HTL} by {desc} ({obj})')\n",
    "    plt.show()"
   ]
  },
  {
   "cell_type": "code",
   "execution_count": 69,
   "metadata": {},
   "outputs": [
    {
     "data": {
      "application/vnd.jupyter.widget-view+json": {
       "model_id": "eb5eb1dc2a054bef968ec4840f5b46be",
       "version_major": 2,
       "version_minor": 0
      },
      "text/plain": [
       "VBox(children=(Dropdown(description='Year: ', index=3, layout=Layout(margin='0 auto', width='15%'), options=(2…"
      ]
     },
     "metadata": {},
     "output_type": "display_data"
    }
   ],
   "source": [
    "draw_cht('All', year_dropdown, htl_guest_by_obj, COL_NAME_ARR_DATE_Y, 'Year')"
   ]
  },
  {
   "cell_type": "code",
   "execution_count": 70,
   "metadata": {},
   "outputs": [],
   "source": [
    "# Hotel & Country by object\n",
    "def htl_cntry_by_obj(obj, col_name, desc):\n",
    "    if obj == 'All':\n",
    "        df_filtered = merged_df\n",
    "    else:\n",
    "        df_filtered = merged_df[merged_df[col_name] == obj]\n",
    "    top_10_countries = df_filtered.groupby(COL_NAME_CNTRY_NAME).size().sort_values(ascending=False).head(10).index\n",
    "    sns.catplot(x=COL_NAME_CNTRY_NAME,\n",
    "                y='Booking Count',\n",
    "                hue=COL_NAME_HTL,\n",
    "                data=df_filtered[df_filtered[COL_NAME_CNTRY_NAME].isin(top_10_countries)][[COL_NAME_HTL, COL_NAME_CNTRY_NAME]].groupby([COL_NAME_HTL, COL_NAME_CNTRY_NAME]).size().reset_index(name='Booking Count'),\n",
    "                kind='bar',\n",
    "                order=top_10_countries,\n",
    "                palette='Set2')\n",
    "    plt.title(f'Top 10 Countries by booking count for each {COL_NAME_HTL} by {desc} ({obj})')\n",
    "    plt.xticks(rotation=90)\n",
    "    plt.grid(alpha=0.3)\n",
    "    plt.show()"
   ]
  },
  {
   "cell_type": "code",
   "execution_count": 71,
   "metadata": {},
   "outputs": [
    {
     "data": {
      "application/vnd.jupyter.widget-view+json": {
       "model_id": "f8c1e52580494e0a976df9178a6abb56",
       "version_major": 2,
       "version_minor": 0
      },
      "text/plain": [
       "VBox(children=(Dropdown(description='Year: ', index=3, layout=Layout(margin='0 auto', width='15%'), options=(2…"
      ]
     },
     "metadata": {},
     "output_type": "display_data"
    }
   ],
   "source": [
    "draw_cht('All', year_dropdown, htl_cntry_by_obj, COL_NAME_ARR_DATE_Y, 'Year')"
   ]
  },
  {
   "cell_type": "code",
   "execution_count": 72,
   "metadata": {},
   "outputs": [
    {
     "data": {
      "application/vnd.jupyter.widget-view+json": {
       "model_id": "e960c9f6a7584ec4883bd20d9203cfc2",
       "version_major": 2,
       "version_minor": 0
      },
      "text/plain": [
       "VBox(children=(Dropdown(description='Market Segment: ', index=7, layout=Layout(margin='0 auto', width='15%'), …"
      ]
     },
     "metadata": {},
     "output_type": "display_data"
    }
   ],
   "source": [
    "draw_cht('All', mkt_seg_dropdown, htl_cntry_by_obj, COL_NAME_MKT_SEG, COL_NAME_MKT_SEG)"
   ]
  },
  {
   "cell_type": "code",
   "execution_count": 73,
   "metadata": {},
   "outputs": [
    {
     "data": {
      "application/vnd.jupyter.widget-view+json": {
       "model_id": "9d6c6a47c89b49fc93a0260abe1a5099",
       "version_major": 2,
       "version_minor": 0
      },
      "text/plain": [
       "VBox(children=(Dropdown(description='Customer Type: ', index=4, layout=Layout(margin='0 auto', width='15%'), o…"
      ]
     },
     "metadata": {},
     "output_type": "display_data"
    }
   ],
   "source": [
    "draw_cht('All', cust_type_dropdown, htl_cntry_by_obj, COL_NAME_CUST_TYPE, COL_NAME_CUST_TYPE)"
   ]
  },
  {
   "cell_type": "code",
   "execution_count": 74,
   "metadata": {},
   "outputs": [],
   "source": [
    "# Hotel & Market Segment by object\n",
    "def htl_mkt_seg_by_obj(obj, col_name, desc):\n",
    "    if obj == 'All':\n",
    "        df_filtered = df\n",
    "    else:\n",
    "        df_filtered = df[df[col_name] == obj]\n",
    "    sns.catplot(x=COL_NAME_MKT_SEG,\n",
    "                y='Booking Count',\n",
    "                hue=COL_NAME_HTL,\n",
    "                data=df_filtered.groupby([COL_NAME_HTL, COL_NAME_MKT_SEG]).size().reset_index(name='Booking Count'),\n",
    "                kind='bar',\n",
    "                order=df_filtered.groupby(COL_NAME_MKT_SEG).size().sort_values(ascending=False).index,\n",
    "                palette='Set2')\n",
    "    plt.title(f'Booking count of {COL_NAME_HTL} and {COL_NAME_MKT_SEG} by {desc} ({obj})')\n",
    "    plt.xticks(rotation=90)\n",
    "    plt.grid(alpha=0.3)\n",
    "    plt.show()"
   ]
  },
  {
   "cell_type": "code",
   "execution_count": 75,
   "metadata": {},
   "outputs": [
    {
     "data": {
      "application/vnd.jupyter.widget-view+json": {
       "model_id": "f952070662eb48e38adbb7b61ebd466a",
       "version_major": 2,
       "version_minor": 0
      },
      "text/plain": [
       "VBox(children=(Dropdown(description='Year: ', index=3, layout=Layout(margin='0 auto', width='15%'), options=(2…"
      ]
     },
     "metadata": {},
     "output_type": "display_data"
    }
   ],
   "source": [
    "draw_cht('All', year_dropdown, htl_mkt_seg_by_obj, COL_NAME_ARR_DATE_Y, 'Year')"
   ]
  },
  {
   "cell_type": "code",
   "execution_count": 76,
   "metadata": {},
   "outputs": [
    {
     "data": {
      "application/vnd.jupyter.widget-view+json": {
       "model_id": "d3d9ba349a3d41f5bab74e8f6413ad5c",
       "version_major": 2,
       "version_minor": 0
      },
      "text/plain": [
       "VBox(children=(Dropdown(description='Customer Type: ', index=4, layout=Layout(margin='0 auto', width='15%'), o…"
      ]
     },
     "metadata": {},
     "output_type": "display_data"
    }
   ],
   "source": [
    "draw_cht('All', cust_type_dropdown, htl_mkt_seg_by_obj, COL_NAME_CUST_TYPE, COL_NAME_CUST_TYPE)"
   ]
  },
  {
   "cell_type": "code",
   "execution_count": 77,
   "metadata": {},
   "outputs": [],
   "source": [
    "# Hotel & Agent by object\n",
    "def htl_agt_by_obj(obj, col_name, desc):\n",
    "    if obj == 'All':\n",
    "        df_filtered = df\n",
    "    else:\n",
    "        df_filtered = df[df[col_name] == obj]\n",
    "    top_10_agent = df_filtered.groupby(COL_NAME_AGT).size().sort_values(ascending=False).head(10).index\n",
    "    sns.catplot(x=COL_NAME_AGT,\n",
    "                y='Booking Count',\n",
    "                hue=COL_NAME_HTL,\n",
    "                data=df_filtered[df_filtered[COL_NAME_AGT].isin(top_10_agent)][[COL_NAME_HTL, COL_NAME_AGT]].groupby([COL_NAME_HTL, COL_NAME_AGT]).size().reset_index(name='Booking Count'),\n",
    "                kind='bar',\n",
    "                order=top_10_agent,\n",
    "                palette='Set2')\n",
    "    plt.title(f'Top 10 Agents of booking count for each {COL_NAME_HTL} by {desc} ({obj})')\n",
    "    plt.grid(alpha=0.3)\n",
    "    plt.show()"
   ]
  },
  {
   "cell_type": "code",
   "execution_count": 78,
   "metadata": {},
   "outputs": [
    {
     "data": {
      "application/vnd.jupyter.widget-view+json": {
       "model_id": "cb5085689bc140128ae1cac6ef349f71",
       "version_major": 2,
       "version_minor": 0
      },
      "text/plain": [
       "VBox(children=(Dropdown(description='Year: ', index=3, layout=Layout(margin='0 auto', width='15%'), options=(2…"
      ]
     },
     "metadata": {},
     "output_type": "display_data"
    }
   ],
   "source": [
    "draw_cht('All', year_dropdown, htl_agt_by_obj, COL_NAME_ARR_DATE_Y, 'Year')"
   ]
  },
  {
   "cell_type": "code",
   "execution_count": 79,
   "metadata": {},
   "outputs": [
    {
     "data": {
      "application/vnd.jupyter.widget-view+json": {
       "model_id": "51c8b317e35b48edbc21e8e433135648",
       "version_major": 2,
       "version_minor": 0
      },
      "text/plain": [
       "VBox(children=(Dropdown(description='Market Segment: ', index=7, layout=Layout(margin='0 auto', width='15%'), …"
      ]
     },
     "metadata": {},
     "output_type": "display_data"
    }
   ],
   "source": [
    "draw_cht('All', mkt_seg_dropdown, htl_agt_by_obj, COL_NAME_MKT_SEG, COL_NAME_MKT_SEG)"
   ]
  },
  {
   "cell_type": "code",
   "execution_count": 80,
   "metadata": {},
   "outputs": [
    {
     "data": {
      "application/vnd.jupyter.widget-view+json": {
       "model_id": "104e36c771bc4073aa5f39b892e895b4",
       "version_major": 2,
       "version_minor": 0
      },
      "text/plain": [
       "VBox(children=(Dropdown(description='Customer Type: ', index=4, layout=Layout(margin='0 auto', width='15%'), o…"
      ]
     },
     "metadata": {},
     "output_type": "display_data"
    }
   ],
   "source": [
    "draw_cht('All', cust_type_dropdown, htl_agt_by_obj, COL_NAME_CUST_TYPE, COL_NAME_CUST_TYPE)"
   ]
  },
  {
   "cell_type": "code",
   "execution_count": 81,
   "metadata": {},
   "outputs": [],
   "source": [
    "# Hotel & Customer Type by object\n",
    "def htl_cust_type_by_obj(obj, col_name, desc):\n",
    "    if obj == 'All':\n",
    "        df_filtered = df\n",
    "    else:\n",
    "        df_filtered = df[df[col_name] == obj]\n",
    "    sns.catplot(x=COL_NAME_CUST_TYPE,\n",
    "                y='Booking Count',\n",
    "                hue=COL_NAME_HTL,\n",
    "                data=df_filtered.groupby([COL_NAME_HTL, COL_NAME_CUST_TYPE]).size().reset_index(name='Booking Count'),\n",
    "                kind='bar',\n",
    "                order=df_filtered.groupby(COL_NAME_CUST_TYPE).size().sort_values(ascending=False).index.tolist(),\n",
    "                palette='Set2')\n",
    "    plt.title(f'Booking count of {COL_NAME_HTL} and {COL_NAME_CUST_TYPE} by {desc} ({obj})')\n",
    "    plt.grid(alpha=0.3)\n",
    "    plt.show()"
   ]
  },
  {
   "cell_type": "code",
   "execution_count": 82,
   "metadata": {},
   "outputs": [
    {
     "data": {
      "application/vnd.jupyter.widget-view+json": {
       "model_id": "4ca227e2389a4756a4c32c957506af40",
       "version_major": 2,
       "version_minor": 0
      },
      "text/plain": [
       "VBox(children=(Dropdown(description='Year: ', index=3, layout=Layout(margin='0 auto', width='15%'), options=(2…"
      ]
     },
     "metadata": {},
     "output_type": "display_data"
    }
   ],
   "source": [
    "draw_cht('All', year_dropdown, htl_cust_type_by_obj, COL_NAME_ARR_DATE_Y, 'Year')"
   ]
  },
  {
   "cell_type": "code",
   "execution_count": 83,
   "metadata": {},
   "outputs": [
    {
     "data": {
      "application/vnd.jupyter.widget-view+json": {
       "model_id": "1cf9c4b128b648608efdb670b1985d4e",
       "version_major": 2,
       "version_minor": 0
      },
      "text/plain": [
       "VBox(children=(Dropdown(description='Market Segment: ', index=7, layout=Layout(margin='0 auto', width='15%'), …"
      ]
     },
     "metadata": {},
     "output_type": "display_data"
    }
   ],
   "source": [
    "draw_cht('All', mkt_seg_dropdown, htl_cust_type_by_obj, COL_NAME_MKT_SEG, COL_NAME_MKT_SEG)"
   ]
  },
  {
   "cell_type": "code",
   "execution_count": 84,
   "metadata": {},
   "outputs": [],
   "source": [
    "# Hotel & Average Daily Rate by object\n",
    "def htl_avg_dly_rate_by_obj(obj, col_name, desc):\n",
    "    if obj == 'All':\n",
    "        df_filtered = df\n",
    "    else:\n",
    "        df_filtered = df[df[col_name] == obj]\n",
    "    sns.violinplot(x=COL_NAME_HTL, y=COL_NAME_AVG_DLY_RATE, data=df_filtered.sort_values(by=COL_NAME_AVG_DLY_RATE, ascending=False), palette='Set2')\n",
    "    plt.title(f'Violinplot of {COL_NAME_AVG_DLY_RATE} and {COL_NAME_HTL} by {desc} ({obj})')\n",
    "    plt.grid(alpha=0.3)\n",
    "    plt.show()"
   ]
  },
  {
   "cell_type": "code",
   "execution_count": 85,
   "metadata": {},
   "outputs": [
    {
     "data": {
      "application/vnd.jupyter.widget-view+json": {
       "model_id": "252f4bc08641482fa0fd9e0107728fa5",
       "version_major": 2,
       "version_minor": 0
      },
      "text/plain": [
       "VBox(children=(Dropdown(description='Year: ', index=3, layout=Layout(margin='0 auto', width='15%'), options=(2…"
      ]
     },
     "metadata": {},
     "output_type": "display_data"
    }
   ],
   "source": [
    "draw_cht('All', year_dropdown, htl_avg_dly_rate_by_obj, COL_NAME_ARR_DATE_Y, 'Year')"
   ]
  },
  {
   "cell_type": "code",
   "execution_count": 86,
   "metadata": {},
   "outputs": [
    {
     "data": {
      "text/plain": [
       "0        United Kingdom\n",
       "1        United Kingdom\n",
       "2        United Kingdom\n",
       "3              Portugal\n",
       "4              Portugal\n",
       "              ...      \n",
       "79531           Belgium\n",
       "79532            France\n",
       "79533           Germany\n",
       "79534    United Kingdom\n",
       "79535           Germany\n",
       "Name: Country Name, Length: 79536, dtype: object"
      ]
     },
     "execution_count": 86,
     "metadata": {},
     "output_type": "execute_result"
    }
   ],
   "source": [
    "merged_df[COL_NAME_CNTRY_NAME]"
   ]
  },
  {
   "cell_type": "code",
   "execution_count": 87,
   "metadata": {},
   "outputs": [
    {
     "data": {
      "image/png": "[encoded data removed]",
      "text/plain": [
       "<Figure size 640x480 with 1 Axes>"
      ]
     },
     "metadata": {},
     "output_type": "display_data"
    }
   ],
   "source": [
    "sns.violinplot(data=df, x='Arrival Date Year', y='Lead Time')\n",
    "plt.show()"
   ]
  },
  {
   "cell_type": "code",
   "execution_count": 88,
   "metadata": {},
   "outputs": [],
   "source": [
    "# Lead Time & Average Daily Rate by object\n",
    "def lead_time_avg_dly_rate_by_obj(obj, col_name, desc):\n",
    "    if obj == 'All':\n",
    "        df_filtered = df\n",
    "    else:\n",
    "        df_filtered = df[df[col_name] == obj]\n",
    "    plt.scatter(df_filtered[COL_NAME_LEAD_TIME], df_filtered[COL_NAME_AVG_DLY_RATE], color='#86bf91', alpha=0.7)\n",
    "    plt.xlabel(COL_NAME_LEAD_TIME)\n",
    "    plt.ylabel(COL_NAME_AVG_DLY_RATE)\n",
    "    plt.title(f'Scatter plot of {COL_NAME_LEAD_TIME} and {COL_NAME_AVG_DLY_RATE} by {desc} ({obj})')\n",
    "    plt.grid(alpha=0.3)\n",
    "    plt.show()"
   ]
  },
  {
   "cell_type": "code",
   "execution_count": 89,
   "metadata": {},
   "outputs": [
    {
     "data": {
      "application/vnd.jupyter.widget-view+json": {
       "model_id": "3c86ab8cc125426680ac278e5c7b050c",
       "version_major": 2,
       "version_minor": 0
      },
      "text/plain": [
       "VBox(children=(Dropdown(description='Year: ', index=3, layout=Layout(margin='0 auto', width='15%'), options=(2…"
      ]
     },
     "metadata": {},
     "output_type": "display_data"
    }
   ],
   "source": [
    "draw_cht('All', year_dropdown, lead_time_avg_dly_rate_by_obj, COL_NAME_ARR_DATE_Y, 'Year')"
   ]
  },
  {
   "cell_type": "code",
   "execution_count": 90,
   "metadata": {},
   "outputs": [
    {
     "data": {
      "application/vnd.jupyter.widget-view+json": {
       "model_id": "cda299a38571449280b7f9a03b21a289",
       "version_major": 2,
       "version_minor": 0
      },
      "text/plain": [
       "VBox(children=(Dropdown(description='Market Segment: ', index=7, layout=Layout(margin='0 auto', width='15%'), …"
      ]
     },
     "metadata": {},
     "output_type": "display_data"
    }
   ],
   "source": [
    "draw_cht('All', mkt_seg_dropdown, lead_time_avg_dly_rate_by_obj, COL_NAME_MKT_SEG, COL_NAME_MKT_SEG)"
   ]
  },
  {
   "cell_type": "code",
   "execution_count": 91,
   "metadata": {},
   "outputs": [
    {
     "data": {
      "application/vnd.jupyter.widget-view+json": {
       "model_id": "fcaa8fd0349c42059a204a1c9233bd7e",
       "version_major": 2,
       "version_minor": 0
      },
      "text/plain": [
       "VBox(children=(Dropdown(description='Customer Type: ', index=4, layout=Layout(margin='0 auto', width='15%'), o…"
      ]
     },
     "metadata": {},
     "output_type": "display_data"
    }
   ],
   "source": [
    "draw_cht('All', cust_type_dropdown, lead_time_avg_dly_rate_by_obj, COL_NAME_CUST_TYPE, COL_NAME_CUST_TYPE)"
   ]
  },
  {
   "cell_type": "code",
   "execution_count": 102,
   "metadata": {},
   "outputs": [
    {
     "data": {
      "image/png": "[encoded data removed]",
      "text/plain": [
       "<Figure size 661.625x500 with 1 Axes>"
      ]
     },
     "metadata": {},
     "output_type": "display_data"
    }
   ],
   "source": [
    "sns.catplot(x=COL_NAME_ARR_DATE_Y,\n",
    "            y='Booking Count',\n",
    "            hue=COL_NAME_CNTRY_NAME,\n",
    "            data=merged_df[merged_df[COL_NAME_CNTRY_NAME].isin(merged_df.groupby(COL_NAME_CNTRY_NAME).size().sort_values(ascending=False).head(5).index)][[COL_NAME_ARR_DATE_Y, COL_NAME_CNTRY_NAME]].groupby([COL_NAME_ARR_DATE_Y, COL_NAME_CNTRY_NAME]).size().sort_values(ascending=False).reset_index(name='Booking Count'),\n",
    "            kind='bar',\n",
    "            palette='Set2')\n",
    "# plt.title(f'Top 10 Countries by booking count for each {COL_NAME_HTL} by {desc} ({obj})')\n",
    "plt.grid(alpha=0.3)\n",
    "plt.show()"
   ]
  },
  {
   "cell_type": "code",
   "execution_count": 93,
   "metadata": {},
   "outputs": [
    {
     "data": {
      "image/png": "[encoded data removed]",
      "text/plain": [
       "<Figure size 661.875x500 with 1 Axes>"
      ]
     },
     "metadata": {},
     "output_type": "display_data"
    }
   ],
   "source": [
    "sns.catplot(x=COL_NAME_ARR_DATE_Y,\n",
    "            y='Booking Count',\n",
    "            hue=COL_NAME_MKT_SEG,\n",
    "            data=df.groupby([COL_NAME_ARR_DATE_Y, COL_NAME_MKT_SEG]).size().sort_values(ascending=False).reset_index(name='Booking Count'),\n",
    "            kind='bar',\n",
    "            palette='Set2')\n",
    "# plt.title(f'Booking count of {COL_NAME_HTL} and {COL_NAME_MKT_SEG} by {desc} ({obj})')\n",
    "plt.grid(alpha=0.3)\n",
    "plt.show()"
   ]
  },
  {
   "cell_type": "code",
   "execution_count": 103,
   "metadata": {},
   "outputs": [
    {
     "data": {
      "image/png": "[encoded data removed]",
      "text/plain": [
       "<Figure size 576.625x500 with 1 Axes>"
      ]
     },
     "metadata": {},
     "output_type": "display_data"
    }
   ],
   "source": [
    "sns.catplot(x=COL_NAME_ARR_DATE_Y,\n",
    "            y='Booking Count',\n",
    "            hue=COL_NAME_AGT,\n",
    "            data=df[df[COL_NAME_AGT].isin(df.groupby(COL_NAME_AGT).size().sort_values(ascending=False).head(5).index)][[COL_NAME_ARR_DATE_Y, COL_NAME_AGT]].groupby([COL_NAME_ARR_DATE_Y, COL_NAME_AGT]).size().sort_values(ascending=False).reset_index(name='Booking Count'),\n",
    "            kind='bar',\n",
    "            palette='Set2')\n",
    "# plt.title(f'Top 10 Countries by booking count for each {COL_NAME_HTL} by {desc} ({obj})')\n",
    "plt.grid(alpha=0.3)\n",
    "plt.show()"
   ]
  },
  {
   "cell_type": "code",
   "execution_count": 104,
   "metadata": {},
   "outputs": [
    {
     "data": {
      "image/png": "[encoded data removed]",
      "text/plain": [
       "<Figure size 654.375x500 with 1 Axes>"
      ]
     },
     "metadata": {},
     "output_type": "display_data"
    }
   ],
   "source": [
    "sns.catplot(x=COL_NAME_ARR_DATE_Y,\n",
    "            y='Booking Count',\n",
    "            hue=COL_NAME_CUST_TYPE,\n",
    "            data=df.groupby([COL_NAME_ARR_DATE_Y, COL_NAME_CUST_TYPE]).size().sort_values(ascending=False).reset_index(name='Booking Count'),\n",
    "            kind='bar',\n",
    "            palette='Set2')\n",
    "# plt.title(f'Booking count of {COL_NAME_HTL} and {COL_NAME_MKT_SEG} by {desc} ({obj})')\n",
    "plt.grid(alpha=0.3)\n",
    "plt.show()"
   ]
  },
  {
   "cell_type": "code",
   "execution_count": 108,
   "metadata": {},
   "outputs": [
    {
     "data": {
      "image/png": "[encoded data removed]",
      "text/plain": [
       "<Figure size 1200x600 with 1 Axes>"
      ]
     },
     "metadata": {},
     "output_type": "display_data"
    }
   ],
   "source": [
    "plt.figure(figsize=(12,6))\n",
    "sns.violinplot(x='Arrival Date Year', y='Average Daily Rate', data=df, order=[2015, 2016, 2017])\n",
    "plt.title('Boxplot of Average Daily Rate by Arrival Date Year')\n",
    "plt.show()\n"
   ]
  },
  {
   "cell_type": "code",
   "execution_count": null,
   "metadata": {},
   "outputs": [],
   "source": []
  },
  {
   "cell_type": "code",
   "execution_count": 95,
   "metadata": {},
   "outputs": [],
   "source": [
    "# Hotel & Lead Time & Average Daily Rate by object\n",
    "def htl_lead_time_avg_dly_rate_by_obj(obj, col_name, desc):\n",
    "    if obj == 'All':\n",
    "        df_filtered = df\n",
    "    else:\n",
    "        df_filtered = df[df[col_name] == obj]\n",
    "    for i, hotel in enumerate(df_filtered[COL_NAME_HTL].unique()):\n",
    "        subset = df_filtered[df_filtered[COL_NAME_HTL] == hotel]\n",
    "        plt.scatter(subset[COL_NAME_LEAD_TIME], subset[COL_NAME_AVG_DLY_RATE], c=['#E99675', '#72B6A1'][i], alpha=0.7, label=hotel)\n",
    "    plt.xlabel(COL_NAME_LEAD_TIME)\n",
    "    plt.ylabel(COL_NAME_AVG_DLY_RATE)\n",
    "    plt.title(f'Scatter plot of {COL_NAME_LEAD_TIME} and {COL_NAME_AVG_DLY_RATE} with {COL_NAME_HTL} by {desc} ({obj})')\n",
    "    plt.legend(loc='upper right')\n",
    "    plt.grid(alpha=0.3)\n",
    "    plt.show()"
   ]
  },
  {
   "cell_type": "code",
   "execution_count": 96,
   "metadata": {},
   "outputs": [
    {
     "data": {
      "application/vnd.jupyter.widget-view+json": {
       "model_id": "16deb27bfdbb4298a4baaf83322ff78c",
       "version_major": 2,
       "version_minor": 0
      },
      "text/plain": [
       "VBox(children=(Dropdown(description='Year: ', index=3, layout=Layout(margin='0 auto', width='15%'), options=(2…"
      ]
     },
     "metadata": {},
     "output_type": "display_data"
    }
   ],
   "source": [
    "draw_cht('All', year_dropdown, htl_lead_time_avg_dly_rate_by_obj, COL_NAME_ARR_DATE_Y, 'Year')"
   ]
  },
  {
   "cell_type": "code",
   "execution_count": 97,
   "metadata": {},
   "outputs": [
    {
     "data": {
      "application/vnd.jupyter.widget-view+json": {
       "model_id": "370e164e4122469d932fc922a85e4eb3",
       "version_major": 2,
       "version_minor": 0
      },
      "text/plain": [
       "VBox(children=(Dropdown(description='Market Segment: ', index=7, layout=Layout(margin='0 auto', width='15%'), …"
      ]
     },
     "metadata": {},
     "output_type": "display_data"
    }
   ],
   "source": [
    "draw_cht('All', mkt_seg_dropdown, htl_lead_time_avg_dly_rate_by_obj, COL_NAME_MKT_SEG, COL_NAME_MKT_SEG)"
   ]
  },
  {
   "cell_type": "code",
   "execution_count": 98,
   "metadata": {},
   "outputs": [
    {
     "data": {
      "application/vnd.jupyter.widget-view+json": {
       "model_id": "fc248b030fbe4a74b6dbabdebe5a6b10",
       "version_major": 2,
       "version_minor": 0
      },
      "text/plain": [
       "VBox(children=(Dropdown(description='Customer Type: ', index=4, layout=Layout(margin='0 auto', width='15%'), o…"
      ]
     },
     "metadata": {},
     "output_type": "display_data"
    }
   ],
   "source": [
    "draw_cht('All', cust_type_dropdown, htl_lead_time_avg_dly_rate_by_obj, COL_NAME_CUST_TYPE, COL_NAME_CUST_TYPE)"
   ]
  },
  {
   "cell_type": "code",
   "execution_count": null,
   "metadata": {},
   "outputs": [],
   "source": []
  }
 ],
 "metadata": {
  "kernelspec": {
   "display_name": "base",
   "language": "python",
   "name": "python3"
  },
  "language_info": {
   "codemirror_mode": {
    "name": "ipython",
    "version": 3
   },
   "file_extension": ".py",
   "mimetype": "text/x-python",
   "name": "python",
   "nbconvert_exporter": "python",
   "pygments_lexer": "ipython3",
   "version": "3.9.13"
  },
  "orig_nbformat": 4
 },
 "nbformat": 4,
 "nbformat_minor": 2
}
