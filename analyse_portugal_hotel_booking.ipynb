{
 "cells": [
  {
   "attachments": {},
   "cell_type": "markdown",
   "metadata": {},
   "source": [
    "# CAPSTONE PROJECT"
   ]
  },
  {
   "cell_type": "code",
   "execution_count": 110,
   "metadata": {},
   "outputs": [],
   "source": [
    "import pandas as pd\n",
    "import seaborn as sns\n",
    "import ipywidgets as widgets\n",
    "import matplotlib.pyplot as plt\n",
    "from ipywidgets import interact\n",
    "from pandas.api.types import CategoricalDtype"
   ]
  },
  {
   "cell_type": "code",
   "execution_count": 111,
   "metadata": {},
   "outputs": [],
   "source": [
    "COL_NAME_HTL = 'Hotel'\n",
    "COL_NAME_LEAD_TIME = 'Lead Time'\n",
    "COL_NAME_ARR_DATE_D = 'Arrival Date Day'\n",
    "COL_NAME_ARR_DATE_M = 'Arrival Date Month'\n",
    "COL_NAME_ARR_DATE_Y = 'Arrival Date Year'\n",
    "COL_NAME_ARR_DATE = 'Arrival Date'\n",
    "COL_NAME_ADT = 'Adults'\n",
    "COL_NAME_CHLDN = 'Children'\n",
    "COL_NAME_CNTRY = 'Country'\n",
    "COL_NAME_MKT_SEG = 'Market Segment'\n",
    "COL_NAME_AGT = 'Agent'\n",
    "COL_NAME_CUST_TYPE = 'Customer Type'\n",
    "COL_NAME_AVG_DLY_RATE = 'Average Daily Rate'\n",
    "COL_NAME_CNTRY_NAME = 'Country Name'"
   ]
  },
  {
   "cell_type": "code",
   "execution_count": 112,
   "metadata": {},
   "outputs": [],
   "source": [
    "df = pd.read_csv('data_valid.csv')\n",
    "country_codes_df = pd.read_excel('country_codes_list.xlsx')\n",
    "merged_df = pd.merge(df, country_codes_df, on=COL_NAME_CNTRY, how='left')"
   ]
  },
  {
   "cell_type": "code",
   "execution_count": 113,
   "metadata": {},
   "outputs": [],
   "source": [
    "month_order = ['January', 'February', 'March', 'April', 'May', 'June', 'July', 'August', 'September', 'October', 'November', 'December']"
   ]
  },
  {
   "cell_type": "code",
   "execution_count": 114,
   "metadata": {},
   "outputs": [],
   "source": [
    "# Create dropdown\n",
    "def crt_dropdown(col_name, desc):\n",
    "    list = df[col_name].unique().tolist()\n",
    "    list.append('All')\n",
    "    return widgets.Dropdown(\n",
    "        options=list,\n",
    "        value='All',\n",
    "        description=f'{desc}: ',\n",
    "        style={'description_width': 'initial'},\n",
    "        layout={'width': '15%', 'margin': '0 auto'})\n"
   ]
  },
  {
   "cell_type": "code",
   "execution_count": 115,
   "metadata": {},
   "outputs": [],
   "source": [
    "year_dropdown = crt_dropdown(COL_NAME_ARR_DATE_Y, 'Year')\n",
    "mkt_seg_dropdown = crt_dropdown(COL_NAME_MKT_SEG, COL_NAME_MKT_SEG)\n",
    "cust_type_dropdown = crt_dropdown(COL_NAME_CUST_TYPE, COL_NAME_CUST_TYPE)"
   ]
  },
  {
   "cell_type": "code",
   "execution_count": 116,
   "metadata": {},
   "outputs": [],
   "source": [
    "# Column by object output\n",
    "def col_by_obj_output(obj, col_by_cht_op, col_by_obj, col_name, desc):\n",
    "    with col_by_cht_op:\n",
    "        col_by_cht_op.clear_output(wait=True)\n",
    "        col_by_obj(obj, col_name, desc)"
   ]
  },
  {
   "cell_type": "code",
   "execution_count": 117,
   "metadata": {},
   "outputs": [],
   "source": [
    "# Draw chart\n",
    "def draw_cht(obj, dropdown, col_by_obj, col_name, desc):\n",
    "    col_by_obj_cht_op = widgets.Output()\n",
    "    col_by_obj_db = widgets.VBox([dropdown, col_by_obj_cht_op])\n",
    "    col_by_obj_db.layout.align_items = 'center'\n",
    "    col_by_obj_output(obj, col_by_obj_cht_op, col_by_obj, col_name, desc)\n",
    "    display(col_by_obj_db)\n",
    "    dropdown.observe(lambda change: col_by_obj_output(change.new, col_by_obj_cht_op, col_by_obj, col_name, desc), names='value')"
   ]
  },
  {
   "cell_type": "code",
   "execution_count": 118,
   "metadata": {},
   "outputs": [
    {
     "data": {
      "text/plain": [
       "count          79536\n",
       "unique             2\n",
       "top       City Hotel\n",
       "freq           51765\n",
       "Name: Hotel, dtype: object"
      ]
     },
     "execution_count": 118,
     "metadata": {},
     "output_type": "execute_result"
    }
   ],
   "source": [
    "df[COL_NAME_HTL].describe()"
   ]
  },
  {
   "cell_type": "code",
   "execution_count": 119,
   "metadata": {},
   "outputs": [],
   "source": [
    "# Hotel by object\n",
    "def htl_by_obj(obj, col_name, desc):\n",
    "    if obj == 'All':\n",
    "        df_filtered = df\n",
    "    else:\n",
    "        df_filtered = df[df[col_name] == obj]\n",
    "    hotel_counts = df_filtered[COL_NAME_HTL].value_counts()\n",
    "    _, ax = plt.subplots()\n",
    "    wedges, _, _ = ax.pie(hotel_counts, labels=hotel_counts.index, wedgeprops=dict(width=0.7), counterclock=False, colors=sns.color_palette('Set2'), autopct='%1.1f%%', pctdistance=0.75)\n",
    "    p=plt.gcf()\n",
    "    p.gca().add_artist(plt.Circle((0,0), 0.5, color='white'))\n",
    "    plt.setp(wedges, edgecolor='white', linewidth=1.5)\n",
    "    ax.set_title(f'Donut chart of {COL_NAME_HTL} by {desc} ({obj})')\n",
    "    plt.show()"
   ]
  },
  {
   "cell_type": "code",
   "execution_count": 120,
   "metadata": {},
   "outputs": [
    {
     "data": {
      "application/vnd.jupyter.widget-view+json": {
       "model_id": "e604b5e302bd485896df9b3fa72e6062",
       "version_major": 2,
       "version_minor": 0
      },
      "text/plain": [
       "VBox(children=(Dropdown(description='Year: ', index=3, layout=Layout(margin='0 auto', width='15%'), options=(2…"
      ]
     },
     "metadata": {},
     "output_type": "display_data"
    }
   ],
   "source": [
    "draw_cht('All', year_dropdown, htl_by_obj, COL_NAME_ARR_DATE_Y, 'Year')"
   ]
  },
  {
   "cell_type": "code",
   "execution_count": 121,
   "metadata": {},
   "outputs": [
    {
     "data": {
      "application/vnd.jupyter.widget-view+json": {
       "model_id": "0a8f070b539a48fba672266ee178094b",
       "version_major": 2,
       "version_minor": 0
      },
      "text/plain": [
       "VBox(children=(Dropdown(description='Market Segment: ', index=7, layout=Layout(margin='0 auto', width='15%'), …"
      ]
     },
     "metadata": {},
     "output_type": "display_data"
    }
   ],
   "source": [
    "draw_cht('All', mkt_seg_dropdown, htl_by_obj, COL_NAME_MKT_SEG, COL_NAME_MKT_SEG)"
   ]
  },
  {
   "cell_type": "code",
   "execution_count": 122,
   "metadata": {},
   "outputs": [
    {
     "data": {
      "application/vnd.jupyter.widget-view+json": {
       "model_id": "83302d175fc1434296909773021f1d4e",
       "version_major": 2,
       "version_minor": 0
      },
      "text/plain": [
       "VBox(children=(Dropdown(description='Customer Type: ', index=4, layout=Layout(margin='0 auto', width='15%'), o…"
      ]
     },
     "metadata": {},
     "output_type": "display_data"
    }
   ],
   "source": [
    "draw_cht('All', cust_type_dropdown, htl_by_obj, COL_NAME_CUST_TYPE, COL_NAME_CUST_TYPE)"
   ]
  },
  {
   "cell_type": "code",
   "execution_count": 123,
   "metadata": {},
   "outputs": [
    {
     "data": {
      "text/plain": [
       "count    79536.000000\n",
       "mean        82.882167\n",
       "std         86.205572\n",
       "min          0.000000\n",
       "25%         14.000000\n",
       "50%         54.000000\n",
       "75%        129.000000\n",
       "max        709.000000\n",
       "Name: Lead Time, dtype: float64"
      ]
     },
     "execution_count": 123,
     "metadata": {},
     "output_type": "execute_result"
    }
   ],
   "source": [
    "df[COL_NAME_LEAD_TIME].describe()"
   ]
  },
  {
   "cell_type": "code",
   "execution_count": 124,
   "metadata": {},
   "outputs": [],
   "source": [
    "# Lead Time by object\n",
    "def lead_time_by_obj(obj, col_name, desc):\n",
    "    if obj == 'All':\n",
    "        df_filtered = df\n",
    "    else:\n",
    "        df_filtered = df[df[col_name] == obj]\n",
    "    plt.hist(data=df_filtered, x='Lead Time', bins=24, range=(0, 720), color='#86bf91', edgecolor='black')\n",
    "    plt.xlabel(COL_NAME_LEAD_TIME)\n",
    "    plt.ylabel('Frequency')\n",
    "    plt.title(f'Histogram of {COL_NAME_LEAD_TIME} by {desc} ({obj})')\n",
    "    plt.xticks(range(0, 730, 90))\n",
    "    plt.grid(alpha=0.3)\n",
    "    plt.show()"
   ]
  },
  {
   "cell_type": "code",
   "execution_count": 125,
   "metadata": {},
   "outputs": [
    {
     "data": {
      "application/vnd.jupyter.widget-view+json": {
       "model_id": "36099627eafc4c34a530ea23e18730e5",
       "version_major": 2,
       "version_minor": 0
      },
      "text/plain": [
       "VBox(children=(Dropdown(description='Year: ', index=3, layout=Layout(margin='0 auto', width='15%'), options=(2…"
      ]
     },
     "metadata": {},
     "output_type": "display_data"
    }
   ],
   "source": [
    "draw_cht('All', year_dropdown, lead_time_by_obj, COL_NAME_ARR_DATE_Y, 'Year')"
   ]
  },
  {
   "cell_type": "code",
   "execution_count": 126,
   "metadata": {},
   "outputs": [
    {
     "data": {
      "application/vnd.jupyter.widget-view+json": {
       "model_id": "f958cc9d115e406eb5bdc86cf8305f15",
       "version_major": 2,
       "version_minor": 0
      },
      "text/plain": [
       "VBox(children=(Dropdown(description='Market Segment: ', index=7, layout=Layout(margin='0 auto', width='15%'), …"
      ]
     },
     "metadata": {},
     "output_type": "display_data"
    }
   ],
   "source": [
    "draw_cht('All', mkt_seg_dropdown, lead_time_by_obj, COL_NAME_MKT_SEG, COL_NAME_MKT_SEG)"
   ]
  },
  {
   "cell_type": "code",
   "execution_count": 127,
   "metadata": {},
   "outputs": [
    {
     "data": {
      "application/vnd.jupyter.widget-view+json": {
       "model_id": "28c289b1c5284826b2ecd021f755d630",
       "version_major": 2,
       "version_minor": 0
      },
      "text/plain": [
       "VBox(children=(Dropdown(description='Customer Type: ', index=4, layout=Layout(margin='0 auto', width='15%'), o…"
      ]
     },
     "metadata": {},
     "output_type": "display_data"
    }
   ],
   "source": [
    "draw_cht('All', cust_type_dropdown, lead_time_by_obj, COL_NAME_CUST_TYPE, COL_NAME_CUST_TYPE)"
   ]
  },
  {
   "cell_type": "code",
   "execution_count": 128,
   "metadata": {},
   "outputs": [
    {
     "data": {
      "text/plain": [
       "count    79536.000000\n",
       "mean        15.837885\n",
       "std          8.850068\n",
       "min          1.000000\n",
       "25%          8.000000\n",
       "50%         16.000000\n",
       "75%         24.000000\n",
       "max         31.000000\n",
       "Name: Arrival Date Day, dtype: float64"
      ]
     },
     "execution_count": 128,
     "metadata": {},
     "output_type": "execute_result"
    }
   ],
   "source": [
    "df[COL_NAME_ARR_DATE_D].describe()"
   ]
  },
  {
   "cell_type": "code",
   "execution_count": 129,
   "metadata": {},
   "outputs": [
    {
     "data": {
      "text/plain": [
       "count      79536\n",
       "unique        12\n",
       "top       August\n",
       "freq       11026\n",
       "Name: Arrival Date Month, dtype: object"
      ]
     },
     "execution_count": 129,
     "metadata": {},
     "output_type": "execute_result"
    }
   ],
   "source": [
    "df[COL_NAME_ARR_DATE_M].describe()"
   ]
  },
  {
   "cell_type": "code",
   "execution_count": 130,
   "metadata": {},
   "outputs": [],
   "source": [
    "# Arrival by object\n",
    "def arr_by_obj(obj, col_name, desc):\n",
    "    if obj == 'All':\n",
    "        df_filtered = df\n",
    "    else:\n",
    "        df_filtered = df[df[col_name] == obj]\n",
    "    _, (ax1, ax2) = plt.subplots(2, 1)\n",
    "    df_filtered[COL_NAME_ARR_DATE_D].value_counts().sort_index().plot(kind='bar', figsize=(10, 5), color='#86bf91', edgecolor='black', ax=ax1)\n",
    "    ax1.set_xlabel(COL_NAME_ARR_DATE_D)\n",
    "    ax1.set_ylabel('Frequency')\n",
    "    ax1.set_title(f'Bar plot of {COL_NAME_ARR_DATE_D} by {desc} ({obj})')\n",
    "    ax1.set_xticks(ax1.get_xticks())\n",
    "    ax1.set_xticklabels(ax1.get_xticklabels(), rotation=0)\n",
    "    ax1.grid(alpha=0.3)\n",
    "    df_filtered[COL_NAME_ARR_DATE_M].astype(CategoricalDtype(categories=month_order, ordered=True)).value_counts().sort_index().plot(kind='bar', color='#86bf91', edgecolor='black', ax=ax2)\n",
    "    ax2.set_xlabel(COL_NAME_ARR_DATE_M)\n",
    "    ax2.set_ylabel('Frequency')\n",
    "    ax2.set_title(f'Bar plot of {COL_NAME_ARR_DATE_M} by {desc} ({obj})')\n",
    "    ax2.grid(alpha=0.3)\n",
    "    plt.subplots_adjust(hspace=0.5)\n",
    "    plt.show()"
   ]
  },
  {
   "cell_type": "code",
   "execution_count": 131,
   "metadata": {},
   "outputs": [
    {
     "data": {
      "application/vnd.jupyter.widget-view+json": {
       "model_id": "141799ab9be946ddb936801e6ef430e1",
       "version_major": 2,
       "version_minor": 0
      },
      "text/plain": [
       "VBox(children=(Dropdown(description='Year: ', index=3, layout=Layout(margin='0 auto', width='15%'), options=(2…"
      ]
     },
     "metadata": {},
     "output_type": "display_data"
    }
   ],
   "source": [
    "draw_cht('All', year_dropdown, arr_by_obj, COL_NAME_ARR_DATE_Y, 'Year')"
   ]
  },
  {
   "cell_type": "code",
   "execution_count": 132,
   "metadata": {},
   "outputs": [
    {
     "data": {
      "application/vnd.jupyter.widget-view+json": {
       "model_id": "9e8a8c4add47494581876bc6ff650905",
       "version_major": 2,
       "version_minor": 0
      },
      "text/plain": [
       "VBox(children=(Dropdown(description='Market Segment: ', index=7, layout=Layout(margin='0 auto', width='15%'), …"
      ]
     },
     "metadata": {},
     "output_type": "display_data"
    }
   ],
   "source": [
    "draw_cht('All', mkt_seg_dropdown, arr_by_obj, COL_NAME_MKT_SEG, COL_NAME_MKT_SEG)"
   ]
  },
  {
   "cell_type": "code",
   "execution_count": 133,
   "metadata": {},
   "outputs": [
    {
     "data": {
      "application/vnd.jupyter.widget-view+json": {
       "model_id": "b8a7d50fd8334e5faa26e3ee53583a55",
       "version_major": 2,
       "version_minor": 0
      },
      "text/plain": [
       "VBox(children=(Dropdown(description='Customer Type: ', index=4, layout=Layout(margin='0 auto', width='15%'), o…"
      ]
     },
     "metadata": {},
     "output_type": "display_data"
    }
   ],
   "source": [
    "draw_cht('All', cust_type_dropdown, arr_by_obj, COL_NAME_CUST_TYPE, COL_NAME_CUST_TYPE)"
   ]
  },
  {
   "cell_type": "code",
   "execution_count": 134,
   "metadata": {},
   "outputs": [
    {
     "data": {
      "text/plain": [
       "count    79536.000000\n",
       "mean      2016.227092\n",
       "std          0.682190\n",
       "min       2015.000000\n",
       "25%       2016.000000\n",
       "50%       2016.000000\n",
       "75%       2017.000000\n",
       "max       2017.000000\n",
       "Name: Arrival Date Year, dtype: float64"
      ]
     },
     "execution_count": 134,
     "metadata": {},
     "output_type": "execute_result"
    }
   ],
   "source": [
    "df[COL_NAME_ARR_DATE_Y].describe()"
   ]
  },
  {
   "cell_type": "code",
   "execution_count": 135,
   "metadata": {},
   "outputs": [],
   "source": [
    "# Arrival Date Year by object\n",
    "def arr_date_year_by_obj(obj, col_name, desc):\n",
    "    if obj == 'All':\n",
    "        df_filtered = df\n",
    "    else:\n",
    "        df_filtered = df[df[col_name] == obj]\n",
    "    df_filtered[COL_NAME_ARR_DATE_Y].value_counts().sort_index().plot(kind='bar', color='#86bf91', edgecolor='black')\n",
    "    plt.xlabel(COL_NAME_ARR_DATE_Y)\n",
    "    plt.ylabel('Frequency')\n",
    "    plt.title(f'Bar plot of {COL_NAME_ARR_DATE_Y} by {desc} ({obj})')\n",
    "    plt.xticks(rotation=0)\n",
    "    plt.grid(alpha=0.3)\n",
    "    plt.show()"
   ]
  },
  {
   "cell_type": "code",
   "execution_count": 136,
   "metadata": {},
   "outputs": [
    {
     "data": {
      "application/vnd.jupyter.widget-view+json": {
       "model_id": "08b9db6d0e9b4a649a5ffee7cc9eb290",
       "version_major": 2,
       "version_minor": 0
      },
      "text/plain": [
       "VBox(children=(Dropdown(description='Market Segment: ', index=7, layout=Layout(margin='0 auto', width='15%'), …"
      ]
     },
     "metadata": {},
     "output_type": "display_data"
    }
   ],
   "source": [
    "draw_cht('All', mkt_seg_dropdown, arr_date_year_by_obj, COL_NAME_MKT_SEG, COL_NAME_MKT_SEG)"
   ]
  },
  {
   "cell_type": "code",
   "execution_count": 137,
   "metadata": {},
   "outputs": [
    {
     "data": {
      "application/vnd.jupyter.widget-view+json": {
       "model_id": "4b358744dcca4f47b77f3518de5d616a",
       "version_major": 2,
       "version_minor": 0
      },
      "text/plain": [
       "VBox(children=(Dropdown(description='Customer Type: ', index=4, layout=Layout(margin='0 auto', width='15%'), o…"
      ]
     },
     "metadata": {},
     "output_type": "display_data"
    }
   ],
   "source": [
    "draw_cht('All', cust_type_dropdown, arr_date_year_by_obj, COL_NAME_CUST_TYPE, COL_NAME_CUST_TYPE)"
   ]
  },
  {
   "cell_type": "code",
   "execution_count": 138,
   "metadata": {},
   "outputs": [
    {
     "data": {
      "text/plain": [
       "count     79536\n",
       "unique      175\n",
       "top         PRT\n",
       "freq      23142\n",
       "Name: Country, dtype: object"
      ]
     },
     "execution_count": 138,
     "metadata": {},
     "output_type": "execute_result"
    }
   ],
   "source": [
    "df[COL_NAME_CNTRY].describe()"
   ]
  },
  {
   "cell_type": "code",
   "execution_count": 139,
   "metadata": {},
   "outputs": [],
   "source": [
    "# Country by object\n",
    "def cntry_by_obj(obj, col_name, desc):\n",
    "    if obj == 'All':\n",
    "        df_filtered = merged_df\n",
    "    else:\n",
    "        df_filtered = merged_df[merged_df[col_name] == obj]\n",
    "    df_filtered[COL_NAME_CNTRY_NAME].value_counts().head(10).plot(kind='bar', color='#86bf91', edgecolor='black')\n",
    "    plt.xlabel(COL_NAME_CNTRY)\n",
    "    plt.ylabel('Number of bookings')\n",
    "    plt.title(f'Top 10 Countries with highest number of bookings by {desc} ({obj})')\n",
    "    plt.grid(alpha=0.3)\n",
    "    plt.show()"
   ]
  },
  {
   "cell_type": "code",
   "execution_count": 140,
   "metadata": {},
   "outputs": [
    {
     "data": {
      "application/vnd.jupyter.widget-view+json": {
       "model_id": "d14be94d409240108b4f90047ece89d7",
       "version_major": 2,
       "version_minor": 0
      },
      "text/plain": [
       "VBox(children=(Dropdown(description='Year: ', index=3, layout=Layout(margin='0 auto', width='15%'), options=(2…"
      ]
     },
     "metadata": {},
     "output_type": "display_data"
    }
   ],
   "source": [
    "draw_cht('All', year_dropdown, cntry_by_obj, COL_NAME_ARR_DATE_Y, 'Year')"
   ]
  },
  {
   "cell_type": "code",
   "execution_count": 141,
   "metadata": {},
   "outputs": [
    {
     "data": {
      "application/vnd.jupyter.widget-view+json": {
       "model_id": "b0119f50e2794910938f68c80a77e590",
       "version_major": 2,
       "version_minor": 0
      },
      "text/plain": [
       "VBox(children=(Dropdown(description='Market Segment: ', index=7, layout=Layout(margin='0 auto', width='15%'), …"
      ]
     },
     "metadata": {},
     "output_type": "display_data"
    }
   ],
   "source": [
    "draw_cht('All', mkt_seg_dropdown, cntry_by_obj, COL_NAME_MKT_SEG, COL_NAME_MKT_SEG)"
   ]
  },
  {
   "cell_type": "code",
   "execution_count": 142,
   "metadata": {},
   "outputs": [
    {
     "data": {
      "application/vnd.jupyter.widget-view+json": {
       "model_id": "5cb8fd96c23c4de28451fcbc285fb383",
       "version_major": 2,
       "version_minor": 0
      },
      "text/plain": [
       "VBox(children=(Dropdown(description='Customer Type: ', index=4, layout=Layout(margin='0 auto', width='15%'), o…"
      ]
     },
     "metadata": {},
     "output_type": "display_data"
    }
   ],
   "source": [
    "draw_cht('All', cust_type_dropdown, cntry_by_obj, COL_NAME_CUST_TYPE, COL_NAME_CUST_TYPE)"
   ]
  },
  {
   "cell_type": "code",
   "execution_count": 143,
   "metadata": {},
   "outputs": [
    {
     "data": {
      "text/plain": [
       "count    79536.000000\n",
       "mean         1.913310\n",
       "std          0.481261\n",
       "min          0.000000\n",
       "25%          2.000000\n",
       "50%          2.000000\n",
       "75%          2.000000\n",
       "max          4.000000\n",
       "Name: Adults, dtype: float64"
      ]
     },
     "execution_count": 143,
     "metadata": {},
     "output_type": "execute_result"
    }
   ],
   "source": [
    "df[COL_NAME_ADT].describe()"
   ]
  },
  {
   "cell_type": "code",
   "execution_count": 144,
   "metadata": {},
   "outputs": [
    {
     "data": {
      "text/plain": [
       "count    79536.000000\n",
       "mean         0.144136\n",
       "std          0.460901\n",
       "min          0.000000\n",
       "25%          0.000000\n",
       "50%          0.000000\n",
       "75%          0.000000\n",
       "max          3.000000\n",
       "Name: Children, dtype: float64"
      ]
     },
     "execution_count": 144,
     "metadata": {},
     "output_type": "execute_result"
    }
   ],
   "source": [
    "df[COL_NAME_CHLDN].describe()"
   ]
  },
  {
   "cell_type": "code",
   "execution_count": 145,
   "metadata": {},
   "outputs": [],
   "source": [
    "# Guest by object\n",
    "def guest_by_obj(obj, col_name, desc):\n",
    "    if obj == 'All':\n",
    "        df_filtered = df\n",
    "    else:\n",
    "        df_filtered = df[df[col_name] == obj]\n",
    "    _, (ax1, ax2) = plt.subplots(1, 2, figsize=(15, 5))\n",
    "    df_filtered[COL_NAME_ADT].value_counts().sort_index().plot(kind='bar', color='#86bf91', edgecolor='black', ax=ax1)\n",
    "    ax1.set_xlabel(f'Number of {COL_NAME_ADT}')\n",
    "    ax1.set_ylabel('Frequency')\n",
    "    ax1.set_title(f'Bar plot of number of {COL_NAME_ADT} by {desc} ({obj})')\n",
    "    ax1.set_xticks(ax1.get_xticks())\n",
    "    ax1.set_xticklabels(ax1.get_xticklabels(), rotation=0)\n",
    "    ax1.grid(alpha=0.3)\n",
    "    df_filtered[COL_NAME_CHLDN].value_counts().sort_index().plot(kind='bar', color='#86bf91', edgecolor='black', ax=ax2)\n",
    "    ax2.set_xlabel(f'Number of {COL_NAME_CHLDN}')\n",
    "    ax2.set_ylabel('Frequency')\n",
    "    ax2.set_title(f'Bar plot of number of {COL_NAME_CHLDN} by {desc} ({obj})')\n",
    "    ax2.set_xticks(ax2.get_xticks())\n",
    "    ax2.set_xticklabels(ax2.get_xticklabels(), rotation=0)\n",
    "    ax2.grid(alpha=0.3)\n",
    "    plt.show()"
   ]
  },
  {
   "cell_type": "code",
   "execution_count": 146,
   "metadata": {},
   "outputs": [
    {
     "data": {
      "application/vnd.jupyter.widget-view+json": {
       "model_id": "5e3493c1987d4dfaac11b137b00ecb68",
       "version_major": 2,
       "version_minor": 0
      },
      "text/plain": [
       "VBox(children=(Dropdown(description='Year: ', index=3, layout=Layout(margin='0 auto', width='15%'), options=(2…"
      ]
     },
     "metadata": {},
     "output_type": "display_data"
    }
   ],
   "source": [
    "draw_cht('All', year_dropdown, guest_by_obj, COL_NAME_ARR_DATE_Y, 'Year')"
   ]
  },
  {
   "cell_type": "code",
   "execution_count": 147,
   "metadata": {},
   "outputs": [
    {
     "data": {
      "application/vnd.jupyter.widget-view+json": {
       "model_id": "ebeda07a357c4624baa16fed9a84592d",
       "version_major": 2,
       "version_minor": 0
      },
      "text/plain": [
       "VBox(children=(Dropdown(description='Market Segment: ', index=7, layout=Layout(margin='0 auto', width='15%'), …"
      ]
     },
     "metadata": {},
     "output_type": "display_data"
    }
   ],
   "source": [
    "draw_cht('All', mkt_seg_dropdown, guest_by_obj, COL_NAME_MKT_SEG, COL_NAME_MKT_SEG)"
   ]
  },
  {
   "cell_type": "code",
   "execution_count": 148,
   "metadata": {},
   "outputs": [
    {
     "data": {
      "application/vnd.jupyter.widget-view+json": {
       "model_id": "da13c9bfb7514139828780810e86bf62",
       "version_major": 2,
       "version_minor": 0
      },
      "text/plain": [
       "VBox(children=(Dropdown(description='Customer Type: ', index=4, layout=Layout(margin='0 auto', width='15%'), o…"
      ]
     },
     "metadata": {},
     "output_type": "display_data"
    }
   ],
   "source": [
    "draw_cht('All', cust_type_dropdown, guest_by_obj, COL_NAME_CUST_TYPE, COL_NAME_CUST_TYPE)"
   ]
  },
  {
   "cell_type": "code",
   "execution_count": 149,
   "metadata": {},
   "outputs": [
    {
     "data": {
      "text/plain": [
       "count         79536\n",
       "unique            7\n",
       "top       Online TA\n",
       "freq          49564\n",
       "Name: Market Segment, dtype: object"
      ]
     },
     "execution_count": 149,
     "metadata": {},
     "output_type": "execute_result"
    }
   ],
   "source": [
    "df[COL_NAME_MKT_SEG].describe()"
   ]
  },
  {
   "cell_type": "code",
   "execution_count": 150,
   "metadata": {},
   "outputs": [],
   "source": [
    "# Market Segment by object\n",
    "def mrk_seg_by_obj(obj, col_name, desc):\n",
    "    if obj == 'All':\n",
    "        df_filtered = df\n",
    "    else:\n",
    "        df_filtered = df[df[col_name] == obj]\n",
    "    df_filtered[COL_NAME_MKT_SEG].value_counts().plot(kind='bar', color='#86bf91', edgecolor='black')\n",
    "    plt.xlabel(COL_NAME_MKT_SEG)\n",
    "    plt.ylabel('Frequency')\n",
    "    plt.title(f'Bar plot of {COL_NAME_MKT_SEG} by {desc} ({obj})')\n",
    "    plt.grid(alpha=0.3)\n",
    "    plt.show()"
   ]
  },
  {
   "cell_type": "code",
   "execution_count": 151,
   "metadata": {},
   "outputs": [
    {
     "data": {
      "application/vnd.jupyter.widget-view+json": {
       "model_id": "19273ce33f84462889780b68b654740a",
       "version_major": 2,
       "version_minor": 0
      },
      "text/plain": [
       "VBox(children=(Dropdown(description='Year: ', index=3, layout=Layout(margin='0 auto', width='15%'), options=(2…"
      ]
     },
     "metadata": {},
     "output_type": "display_data"
    }
   ],
   "source": [
    "draw_cht('All', year_dropdown, mrk_seg_by_obj, COL_NAME_ARR_DATE_Y, 'Year')"
   ]
  },
  {
   "cell_type": "code",
   "execution_count": 152,
   "metadata": {},
   "outputs": [
    {
     "data": {
      "application/vnd.jupyter.widget-view+json": {
       "model_id": "77bd328b32a74b34a91b2c9072dcd5f1",
       "version_major": 2,
       "version_minor": 0
      },
      "text/plain": [
       "VBox(children=(Dropdown(description='Customer Type: ', index=4, layout=Layout(margin='0 auto', width='15%'), o…"
      ]
     },
     "metadata": {},
     "output_type": "display_data"
    }
   ],
   "source": [
    "draw_cht('All', cust_type_dropdown, mrk_seg_by_obj, COL_NAME_CUST_TYPE, COL_NAME_CUST_TYPE)"
   ]
  },
  {
   "cell_type": "code",
   "execution_count": 153,
   "metadata": {},
   "outputs": [
    {
     "data": {
      "text/plain": [
       "count    79536.000000\n",
       "mean        79.020984\n",
       "std        108.631231\n",
       "min          0.000000\n",
       "25%          9.000000\n",
       "50%          9.000000\n",
       "75%        208.000000\n",
       "max        535.000000\n",
       "Name: Agent, dtype: float64"
      ]
     },
     "execution_count": 153,
     "metadata": {},
     "output_type": "execute_result"
    }
   ],
   "source": [
    "df[COL_NAME_AGT].describe()"
   ]
  },
  {
   "cell_type": "code",
   "execution_count": 154,
   "metadata": {},
   "outputs": [],
   "source": [
    "# Agent by object\n",
    "def agt_by_obj(obj, col_name, desc):\n",
    "    if obj == 'All':\n",
    "        df_filtered = df\n",
    "    else:\n",
    "        df_filtered = df[df[col_name] == obj]\n",
    "    df_filtered[COL_NAME_AGT].value_counts().sort_values(ascending=False).head(10).plot(kind='bar', color='#86bf91', edgecolor='black')\n",
    "    plt.xlabel(COL_NAME_AGT)\n",
    "    plt.ylabel('Number of bookings')\n",
    "    plt.title(f'Top 10 Agents with highest number of bookings by {desc} by ({obj})')\n",
    "    plt.xticks(rotation=0)\n",
    "    plt.grid(alpha=0.3)\n",
    "    plt.show()"
   ]
  },
  {
   "cell_type": "code",
   "execution_count": 155,
   "metadata": {},
   "outputs": [
    {
     "data": {
      "application/vnd.jupyter.widget-view+json": {
       "model_id": "1c301b58f414429daeb2bcca1ab989fb",
       "version_major": 2,
       "version_minor": 0
      },
      "text/plain": [
       "VBox(children=(Dropdown(description='Year: ', index=3, layout=Layout(margin='0 auto', width='15%'), options=(2…"
      ]
     },
     "metadata": {},
     "output_type": "display_data"
    }
   ],
   "source": [
    "draw_cht('All', year_dropdown, agt_by_obj, COL_NAME_ARR_DATE_Y, 'Year')"
   ]
  },
  {
   "cell_type": "code",
   "execution_count": 156,
   "metadata": {},
   "outputs": [
    {
     "data": {
      "application/vnd.jupyter.widget-view+json": {
       "model_id": "1f12d37e986e421f8ed8eb56dd389f90",
       "version_major": 2,
       "version_minor": 0
      },
      "text/plain": [
       "VBox(children=(Dropdown(description='Market Segment: ', index=7, layout=Layout(margin='0 auto', width='15%'), …"
      ]
     },
     "metadata": {},
     "output_type": "display_data"
    }
   ],
   "source": [
    "draw_cht('All', mkt_seg_dropdown, agt_by_obj, COL_NAME_MKT_SEG, COL_NAME_MKT_SEG)"
   ]
  },
  {
   "cell_type": "code",
   "execution_count": 157,
   "metadata": {},
   "outputs": [
    {
     "data": {
      "application/vnd.jupyter.widget-view+json": {
       "model_id": "e5e87f21bdfa4b7fabf7b7fabd14cdfc",
       "version_major": 2,
       "version_minor": 0
      },
      "text/plain": [
       "VBox(children=(Dropdown(description='Customer Type: ', index=4, layout=Layout(margin='0 auto', width='15%'), o…"
      ]
     },
     "metadata": {},
     "output_type": "display_data"
    }
   ],
   "source": [
    "draw_cht('All', cust_type_dropdown, agt_by_obj, COL_NAME_CUST_TYPE, COL_NAME_CUST_TYPE)"
   ]
  },
  {
   "cell_type": "code",
   "execution_count": 158,
   "metadata": {},
   "outputs": [
    {
     "data": {
      "text/plain": [
       "count         79536\n",
       "unique            4\n",
       "top       Transient\n",
       "freq          65915\n",
       "Name: Customer Type, dtype: object"
      ]
     },
     "execution_count": 158,
     "metadata": {},
     "output_type": "execute_result"
    }
   ],
   "source": [
    "df[COL_NAME_CUST_TYPE].describe()"
   ]
  },
  {
   "cell_type": "code",
   "execution_count": 159,
   "metadata": {},
   "outputs": [],
   "source": [
    "# Customer Type by object\n",
    "def cust_type_by_obj(obj, col_name, desc):\n",
    "    if obj == 'All':\n",
    "        df_filtered = df\n",
    "    else:\n",
    "        df_filtered = df[df[col_name] == obj]\n",
    "    df_filtered[COL_NAME_CUST_TYPE].value_counts().plot(kind='bar', color='#86bf91', edgecolor='black')\n",
    "    plt.xlabel(COL_NAME_CUST_TYPE)\n",
    "    plt.ylabel('Frequency')\n",
    "    plt.title(f'Bar plot of {COL_NAME_CUST_TYPE} by {desc} ({obj})')\n",
    "    plt.xticks(rotation=0)\n",
    "    plt.grid(alpha=0.3)\n",
    "    plt.show()"
   ]
  },
  {
   "cell_type": "code",
   "execution_count": 160,
   "metadata": {},
   "outputs": [
    {
     "data": {
      "application/vnd.jupyter.widget-view+json": {
       "model_id": "1d121c8f950c456cbf15e5d9248fef46",
       "version_major": 2,
       "version_minor": 0
      },
      "text/plain": [
       "VBox(children=(Dropdown(description='Year: ', index=3, layout=Layout(margin='0 auto', width='15%'), options=(2…"
      ]
     },
     "metadata": {},
     "output_type": "display_data"
    }
   ],
   "source": [
    "draw_cht('All', year_dropdown, cust_type_by_obj, COL_NAME_ARR_DATE_Y, 'Year')"
   ]
  },
  {
   "cell_type": "code",
   "execution_count": 161,
   "metadata": {},
   "outputs": [
    {
     "data": {
      "application/vnd.jupyter.widget-view+json": {
       "model_id": "72f1d1984615434d9d264845f87ff4e4",
       "version_major": 2,
       "version_minor": 0
      },
      "text/plain": [
       "VBox(children=(Dropdown(description='Market Segment: ', index=7, layout=Layout(margin='0 auto', width='15%'), …"
      ]
     },
     "metadata": {},
     "output_type": "display_data"
    }
   ],
   "source": [
    "draw_cht('All', mkt_seg_dropdown, cust_type_by_obj, COL_NAME_MKT_SEG, COL_NAME_MKT_SEG)"
   ]
  },
  {
   "cell_type": "code",
   "execution_count": 162,
   "metadata": {},
   "outputs": [
    {
     "data": {
      "text/plain": [
       "count    79536.000000\n",
       "mean       113.919918\n",
       "std         47.801892\n",
       "min         45.050000\n",
       "25%         79.200000\n",
       "50%        104.000000\n",
       "75%        138.550000\n",
       "max        510.000000\n",
       "Name: Average Daily Rate, dtype: float64"
      ]
     },
     "execution_count": 162,
     "metadata": {},
     "output_type": "execute_result"
    }
   ],
   "source": [
    "df[COL_NAME_AVG_DLY_RATE].describe()"
   ]
  },
  {
   "cell_type": "code",
   "execution_count": 163,
   "metadata": {},
   "outputs": [],
   "source": [
    "# Average Daily Rate by object\n",
    "def avg_dly_rate_by_obj(obj, col_name, desc):\n",
    "    if obj == 'All':\n",
    "        df_filtered = df\n",
    "    else:\n",
    "        df_filtered = df[df[col_name] == obj]\n",
    "    df_filtered[COL_NAME_AVG_DLY_RATE].hist(bins=22, range=(0, 550), color='#86bf91', edgecolor='black')\n",
    "    plt.xlabel(COL_NAME_AVG_DLY_RATE)\n",
    "    plt.ylabel('Frequency')\n",
    "    plt.title(f'Histogram of {COL_NAME_AVG_DLY_RATE} by {desc} ({obj})')\n",
    "    plt.xticks(range(0, 560, 50))\n",
    "    plt.grid(alpha=0.3)\n",
    "    plt.show()"
   ]
  },
  {
   "cell_type": "code",
   "execution_count": 164,
   "metadata": {},
   "outputs": [
    {
     "data": {
      "application/vnd.jupyter.widget-view+json": {
       "model_id": "6b10f95259c44720a4f2596e2e887682",
       "version_major": 2,
       "version_minor": 0
      },
      "text/plain": [
       "VBox(children=(Dropdown(description='Year: ', index=3, layout=Layout(margin='0 auto', width='15%'), options=(2…"
      ]
     },
     "metadata": {},
     "output_type": "display_data"
    }
   ],
   "source": [
    "draw_cht('All', year_dropdown, avg_dly_rate_by_obj, COL_NAME_ARR_DATE_Y, 'Year')"
   ]
  },
  {
   "cell_type": "code",
   "execution_count": 165,
   "metadata": {},
   "outputs": [
    {
     "data": {
      "application/vnd.jupyter.widget-view+json": {
       "model_id": "f4f3b0a3e5474f879f179b0aa38ee740",
       "version_major": 2,
       "version_minor": 0
      },
      "text/plain": [
       "VBox(children=(Dropdown(description='Market Segment: ', index=7, layout=Layout(margin='0 auto', width='15%'), …"
      ]
     },
     "metadata": {},
     "output_type": "display_data"
    }
   ],
   "source": [
    "draw_cht('All', mkt_seg_dropdown, avg_dly_rate_by_obj, COL_NAME_MKT_SEG, COL_NAME_MKT_SEG)"
   ]
  },
  {
   "cell_type": "code",
   "execution_count": 166,
   "metadata": {},
   "outputs": [
    {
     "data": {
      "application/vnd.jupyter.widget-view+json": {
       "model_id": "b8611845b47d41dfb9653456aa651001",
       "version_major": 2,
       "version_minor": 0
      },
      "text/plain": [
       "VBox(children=(Dropdown(description='Customer Type: ', index=4, layout=Layout(margin='0 auto', width='15%'), o…"
      ]
     },
     "metadata": {},
     "output_type": "display_data"
    }
   ],
   "source": [
    "draw_cht('All', cust_type_dropdown, avg_dly_rate_by_obj, COL_NAME_CUST_TYPE, COL_NAME_CUST_TYPE)"
   ]
  },
  {
   "cell_type": "code",
   "execution_count": 167,
   "metadata": {},
   "outputs": [],
   "source": [
    "# Hotel & Lead Time by object\n",
    "def htl_lead_time_by_obj(obj, col_name, desc):\n",
    "    if obj == 'All':\n",
    "        df_filtered = df\n",
    "    else:\n",
    "        df_filtered = df[df[col_name] == obj]\n",
    "    sns.kdeplot(data=df_filtered, x=COL_NAME_LEAD_TIME, hue=COL_NAME_HTL, fill=True, palette=list(reversed(sns.color_palette('Set2', n_colors=len(df[COL_NAME_HTL].unique())))))\n",
    "    plt.title(f'Kernel density estimation of {COL_NAME_LEAD_TIME} and {COL_NAME_HTL} by {desc} ({obj})')\n",
    "    plt.grid(alpha=0.3)\n",
    "    plt.show()"
   ]
  },
  {
   "cell_type": "code",
   "execution_count": 168,
   "metadata": {},
   "outputs": [
    {
     "data": {
      "application/vnd.jupyter.widget-view+json": {
       "model_id": "edbd0796374d42788244d3dac1c0cef8",
       "version_major": 2,
       "version_minor": 0
      },
      "text/plain": [
       "VBox(children=(Dropdown(description='Year: ', index=3, layout=Layout(margin='0 auto', width='15%'), options=(2…"
      ]
     },
     "metadata": {},
     "output_type": "display_data"
    }
   ],
   "source": [
    "draw_cht('All', year_dropdown, htl_lead_time_by_obj, COL_NAME_ARR_DATE_Y, 'Year')"
   ]
  },
  {
   "cell_type": "code",
   "execution_count": 169,
   "metadata": {},
   "outputs": [],
   "source": [
    "# Hotel & Arrival by object\n",
    "def htl_arr_by_obj(obj, col_name, desc):\n",
    "    if obj == 'All':\n",
    "        df_filtered = df\n",
    "    else:\n",
    "        df_filtered = df[df[col_name] == obj]\n",
    "    _, (ax1, ax2) = plt.subplots(1, 2, figsize=(15, 5))\n",
    "    sns.lineplot(x=COL_NAME_ARR_DATE_D, y='Booking Count', hue=COL_NAME_HTL, data=df_filtered.groupby([COL_NAME_HTL, COL_NAME_ARR_DATE_D]).size().reset_index(name='Booking Count'), palette='Set2', ax=ax1)\n",
    "    ax1.set_title(f'Line plot of booking count of {COL_NAME_HTL} and {COL_NAME_ARR_DATE_D} by {desc} ({obj})')\n",
    "    ax1.grid(alpha=0.3)\n",
    "    htl_month_df = df_filtered.groupby([COL_NAME_HTL, COL_NAME_ARR_DATE_M]).size().reset_index(name='Booking Count')\n",
    "    htl_month_df[COL_NAME_ARR_DATE_M] = pd.Categorical(htl_month_df[COL_NAME_ARR_DATE_M], categories=month_order, ordered=True)\n",
    "    htl_month_df = htl_month_df.sort_values([COL_NAME_ARR_DATE_M])\n",
    "    sns.lineplot(x=COL_NAME_ARR_DATE_M, y='Booking Count', hue=COL_NAME_HTL, data=htl_month_df, palette='Set2', ax=ax2)\n",
    "    ax2.set_title(f'Line plot of {COL_NAME_HTL} and {COL_NAME_ARR_DATE_M} by {desc} ({obj})')\n",
    "    ax2.set_xticks(ax2.get_xticks())\n",
    "    ax2.set_xticklabels(ax2.get_xticklabels(), rotation=90)\n",
    "    ax2.grid(alpha=0.3)\n",
    "    plt.show()"
   ]
  },
  {
   "cell_type": "code",
   "execution_count": 170,
   "metadata": {},
   "outputs": [
    {
     "data": {
      "application/vnd.jupyter.widget-view+json": {
       "model_id": "2859f6bfcc154abe89dda9a790da6366",
       "version_major": 2,
       "version_minor": 0
      },
      "text/plain": [
       "VBox(children=(Dropdown(description='Year: ', index=3, layout=Layout(margin='0 auto', width='15%'), options=(2…"
      ]
     },
     "metadata": {},
     "output_type": "display_data"
    }
   ],
   "source": [
    "draw_cht('All', year_dropdown, htl_arr_by_obj, COL_NAME_ARR_DATE_Y, 'Year')"
   ]
  },
  {
   "cell_type": "code",
   "execution_count": 171,
   "metadata": {},
   "outputs": [
    {
     "data": {
      "application/vnd.jupyter.widget-view+json": {
       "model_id": "c3339f95fdc844bb8024a63e6a809bce",
       "version_major": 2,
       "version_minor": 0
      },
      "text/plain": [
       "VBox(children=(Dropdown(description='Market Segment: ', index=7, layout=Layout(margin='0 auto', width='15%'), …"
      ]
     },
     "metadata": {},
     "output_type": "display_data"
    }
   ],
   "source": [
    "draw_cht('All', mkt_seg_dropdown, htl_arr_by_obj, COL_NAME_MKT_SEG, COL_NAME_MKT_SEG)"
   ]
  },
  {
   "cell_type": "code",
   "execution_count": 172,
   "metadata": {},
   "outputs": [
    {
     "data": {
      "application/vnd.jupyter.widget-view+json": {
       "model_id": "9e85aa1a397a4d5797288221d8ad4c8a",
       "version_major": 2,
       "version_minor": 0
      },
      "text/plain": [
       "VBox(children=(Dropdown(description='Customer Type: ', index=4, layout=Layout(margin='0 auto', width='15%'), o…"
      ]
     },
     "metadata": {},
     "output_type": "display_data"
    }
   ],
   "source": [
    "draw_cht('All', cust_type_dropdown, htl_arr_by_obj, COL_NAME_CUST_TYPE, COL_NAME_CUST_TYPE)"
   ]
  },
  {
   "cell_type": "code",
   "execution_count": 173,
   "metadata": {},
   "outputs": [],
   "source": [
    "# Hotel & Arrival Date Year by object\n",
    "def htl_arr_date_year_by_obj(obj, col_name, desc):\n",
    "    if obj == 'All':\n",
    "        df_filtered = df\n",
    "    else:\n",
    "        df_filtered = df[df[col_name] == obj]\n",
    "    year_df = df_filtered.groupby([COL_NAME_HTL, COL_NAME_ARR_DATE_Y]).size().reset_index(name='Booking Count')\n",
    "    year_df[COL_NAME_ARR_DATE_Y] = year_df[COL_NAME_ARR_DATE_Y].astype(str)\n",
    "    sns.catplot(x=COL_NAME_ARR_DATE_Y,\n",
    "                y='Booking Count',\n",
    "                hue=COL_NAME_HTL,\n",
    "                data=year_df,\n",
    "                kind='bar',\n",
    "                palette='Set2')\n",
    "    plt.title(f'Booking count of {COL_NAME_HTL} and {COL_NAME_ARR_DATE_Y} by {desc} ({obj})')\n",
    "    plt.grid(alpha=0.3)\n",
    "    plt.show()"
   ]
  },
  {
   "cell_type": "code",
   "execution_count": 174,
   "metadata": {},
   "outputs": [
    {
     "data": {
      "application/vnd.jupyter.widget-view+json": {
       "model_id": "bb6fee631b904f79bf277f6a94334fa0",
       "version_major": 2,
       "version_minor": 0
      },
      "text/plain": [
       "VBox(children=(Dropdown(description='Market Segment: ', index=7, layout=Layout(margin='0 auto', width='15%'), …"
      ]
     },
     "metadata": {},
     "output_type": "display_data"
    }
   ],
   "source": [
    "draw_cht('All', mkt_seg_dropdown, htl_arr_date_year_by_obj, COL_NAME_MKT_SEG, COL_NAME_MKT_SEG)"
   ]
  },
  {
   "cell_type": "code",
   "execution_count": 175,
   "metadata": {},
   "outputs": [
    {
     "data": {
      "application/vnd.jupyter.widget-view+json": {
       "model_id": "a21c50ee50ec420fa2bcb645fb3affc5",
       "version_major": 2,
       "version_minor": 0
      },
      "text/plain": [
       "VBox(children=(Dropdown(description='Customer Type: ', index=4, layout=Layout(margin='0 auto', width='15%'), o…"
      ]
     },
     "metadata": {},
     "output_type": "display_data"
    }
   ],
   "source": [
    "draw_cht('All', cust_type_dropdown, htl_arr_date_year_by_obj, COL_NAME_CUST_TYPE, COL_NAME_CUST_TYPE)"
   ]
  },
  {
   "cell_type": "code",
   "execution_count": 176,
   "metadata": {},
   "outputs": [],
   "source": [
    "# Hotel & guest by object\n",
    "def htl_guest_by_obj(obj, col_name, desc):\n",
    "    if obj == 'All':\n",
    "        df_filtered = df\n",
    "    else:\n",
    "        df_filtered = df[df[col_name] == obj]\n",
    "    children_df = df_filtered.groupby([COL_NAME_HTL])[COL_NAME_CHLDN].sum().reset_index(name=f'Total {COL_NAME_CHLDN}')\n",
    "    adults_df = df_filtered.groupby([COL_NAME_HTL])[COL_NAME_ADT].sum().reset_index(name=f'Total {COL_NAME_ADT}')\n",
    "    _, ax = plt.subplots()\n",
    "    colors = sns.color_palette('Set2')\n",
    "    autopct = '%1.1f%%'\n",
    "    wedges_children, _, _ = ax.pie(children_df[f'Total {COL_NAME_CHLDN}'], wedgeprops=dict(width=0.6), counterclock=False, colors=colors, autopct=autopct, pctdistance=0.55)\n",
    "    wedges_adults, _, _ = ax.pie(adults_df[f'Total {COL_NAME_ADT}'], wedgeprops=dict(width=0.3), counterclock=False, colors=colors, autopct=autopct, pctdistance=0.85)\n",
    "    p=plt.gcf()\n",
    "    p.gca().add_artist(plt.Circle((0,0), 0.4, color='white'))\n",
    "    plt.setp(wedges_children, edgecolor='white', linewidth=1.5)\n",
    "    plt.setp(wedges_adults, edgecolor='white', linewidth=1.5)\n",
    "    ax.legend(wedges_adults, adults_df[COL_NAME_HTL], title=COL_NAME_HTL, loc=\"center left\", bbox_to_anchor=(1, 0, 0.5, 1))\n",
    "    ax.set_title(f'Total number of {COL_NAME_ADT} with {COL_NAME_CHLDN} and {COL_NAME_HTL} by {desc} ({obj})')\n",
    "    plt.show()"
   ]
  },
  {
   "cell_type": "code",
   "execution_count": 177,
   "metadata": {},
   "outputs": [
    {
     "data": {
      "application/vnd.jupyter.widget-view+json": {
       "model_id": "60365954b9fd4a16a36f9ff40e634f5a",
       "version_major": 2,
       "version_minor": 0
      },
      "text/plain": [
       "VBox(children=(Dropdown(description='Year: ', index=3, layout=Layout(margin='0 auto', width='15%'), options=(2…"
      ]
     },
     "metadata": {},
     "output_type": "display_data"
    }
   ],
   "source": [
    "draw_cht('All', year_dropdown, htl_guest_by_obj, COL_NAME_ARR_DATE_Y, 'Year')"
   ]
  },
  {
   "cell_type": "code",
   "execution_count": 178,
   "metadata": {},
   "outputs": [],
   "source": [
    "# Hotel & Country by object\n",
    "def htl_cntry_by_obj(obj, col_name, desc):\n",
    "    if obj == 'All':\n",
    "        df_filtered = merged_df\n",
    "    else:\n",
    "        df_filtered = merged_df[merged_df[col_name] == obj]\n",
    "    top_10_countries = df_filtered.groupby(COL_NAME_CNTRY_NAME).size().sort_values(ascending=False).head(10).index.tolist()\n",
    "    top_10_countries_df = df_filtered[df_filtered[COL_NAME_CNTRY_NAME].isin(top_10_countries)]\n",
    "    sns.catplot(x=COL_NAME_CNTRY_NAME,\n",
    "                y='Booking Count',\n",
    "                hue=COL_NAME_HTL,\n",
    "                data=top_10_countries_df[[COL_NAME_HTL, COL_NAME_CNTRY_NAME]].groupby([COL_NAME_HTL, COL_NAME_CNTRY_NAME]).size().reset_index(name='Booking Count'),\n",
    "                kind='bar',\n",
    "                order=top_10_countries,\n",
    "                palette='Set2')\n",
    "    plt.title(f'Top 10 Countries by booking count for each {COL_NAME_HTL} by {desc} ({obj})')\n",
    "    plt.xticks(rotation=90)\n",
    "    plt.grid(alpha=0.3)\n",
    "    plt.show()"
   ]
  },
  {
   "cell_type": "code",
   "execution_count": 179,
   "metadata": {},
   "outputs": [
    {
     "data": {
      "application/vnd.jupyter.widget-view+json": {
       "model_id": "b60b475bdafe4f5fba62951d625159fc",
       "version_major": 2,
       "version_minor": 0
      },
      "text/plain": [
       "VBox(children=(Dropdown(description='Year: ', index=3, layout=Layout(margin='0 auto', width='15%'), options=(2…"
      ]
     },
     "metadata": {},
     "output_type": "display_data"
    }
   ],
   "source": [
    "draw_cht('All', year_dropdown, htl_cntry_by_obj, COL_NAME_ARR_DATE_Y, 'Year')"
   ]
  },
  {
   "cell_type": "code",
   "execution_count": 180,
   "metadata": {},
   "outputs": [
    {
     "data": {
      "application/vnd.jupyter.widget-view+json": {
       "model_id": "5a85d268e45949ecae6c5f83eae855d3",
       "version_major": 2,
       "version_minor": 0
      },
      "text/plain": [
       "VBox(children=(Dropdown(description='Market Segment: ', index=7, layout=Layout(margin='0 auto', width='15%'), …"
      ]
     },
     "metadata": {},
     "output_type": "display_data"
    }
   ],
   "source": [
    "draw_cht('All', mkt_seg_dropdown, htl_cntry_by_obj, COL_NAME_MKT_SEG, COL_NAME_MKT_SEG)"
   ]
  },
  {
   "cell_type": "code",
   "execution_count": 181,
   "metadata": {},
   "outputs": [
    {
     "data": {
      "application/vnd.jupyter.widget-view+json": {
       "model_id": "fb19b83a4d404e0cb97a8a792c6bd3c3",
       "version_major": 2,
       "version_minor": 0
      },
      "text/plain": [
       "VBox(children=(Dropdown(description='Customer Type: ', index=4, layout=Layout(margin='0 auto', width='15%'), o…"
      ]
     },
     "metadata": {},
     "output_type": "display_data"
    }
   ],
   "source": [
    "draw_cht('All', cust_type_dropdown, htl_cntry_by_obj, COL_NAME_CUST_TYPE, COL_NAME_CUST_TYPE)"
   ]
  },
  {
   "cell_type": "code",
   "execution_count": 182,
   "metadata": {},
   "outputs": [],
   "source": [
    "# Hotel & Market Segment by object\n",
    "def htl_mkt_seg_by_obj(obj, col_name, desc):\n",
    "    if obj == 'All':\n",
    "        df_filtered = df\n",
    "    else:\n",
    "        df_filtered = df[df[col_name] == obj]\n",
    "    top_market_segment = df_filtered.groupby(COL_NAME_MKT_SEG).size().sort_values(ascending=False).index.tolist()\n",
    "    sns.catplot(x=COL_NAME_MKT_SEG,\n",
    "                y='Booking Count',\n",
    "                hue=COL_NAME_HTL,\n",
    "                data=df_filtered.groupby([COL_NAME_HTL, COL_NAME_MKT_SEG]).size().reset_index(name='Booking Count'),\n",
    "                kind='bar',\n",
    "                order=top_market_segment,\n",
    "                palette='Set2')\n",
    "    plt.title(f'Booking count of {COL_NAME_HTL} and {COL_NAME_MKT_SEG} by {desc} ({obj})')\n",
    "    plt.xticks(rotation=90)\n",
    "    plt.grid(alpha=0.3)\n",
    "    plt.show()"
   ]
  },
  {
   "cell_type": "code",
   "execution_count": 183,
   "metadata": {},
   "outputs": [
    {
     "data": {
      "application/vnd.jupyter.widget-view+json": {
       "model_id": "be82cfe35b52400b9d926a08c5678510",
       "version_major": 2,
       "version_minor": 0
      },
      "text/plain": [
       "VBox(children=(Dropdown(description='Year: ', index=3, layout=Layout(margin='0 auto', width='15%'), options=(2…"
      ]
     },
     "metadata": {},
     "output_type": "display_data"
    }
   ],
   "source": [
    "draw_cht('All', year_dropdown, htl_mkt_seg_by_obj, COL_NAME_ARR_DATE_Y, 'Year')"
   ]
  },
  {
   "cell_type": "code",
   "execution_count": 184,
   "metadata": {},
   "outputs": [
    {
     "data": {
      "application/vnd.jupyter.widget-view+json": {
       "model_id": "9222b42e8b00460baf6e8610740f830c",
       "version_major": 2,
       "version_minor": 0
      },
      "text/plain": [
       "VBox(children=(Dropdown(description='Customer Type: ', index=4, layout=Layout(margin='0 auto', width='15%'), o…"
      ]
     },
     "metadata": {},
     "output_type": "display_data"
    }
   ],
   "source": [
    "draw_cht('All', cust_type_dropdown, htl_mkt_seg_by_obj, COL_NAME_CUST_TYPE, COL_NAME_CUST_TYPE)"
   ]
  },
  {
   "cell_type": "code",
   "execution_count": 185,
   "metadata": {},
   "outputs": [],
   "source": [
    "# Hotel & Agent by object\n",
    "def htl_agt_by_obj(obj, col_name, desc):\n",
    "    if obj == 'All':\n",
    "        df_filtered = df\n",
    "    else:\n",
    "        df_filtered = df[df[col_name] == obj]\n",
    "    top_10_agent = df_filtered.groupby(COL_NAME_AGT).size().sort_values(ascending=False).head(10).index.tolist()\n",
    "    top_10_agent_df = df_filtered[df_filtered[COL_NAME_AGT].isin(top_10_agent)]\n",
    "    sns.catplot(x=COL_NAME_AGT,\n",
    "                y='Booking Count',\n",
    "                hue=COL_NAME_HTL,\n",
    "                data=top_10_agent_df[[COL_NAME_HTL, COL_NAME_AGT]].groupby([COL_NAME_HTL, COL_NAME_AGT]).size().reset_index(name='Booking Count'),\n",
    "                kind='bar',\n",
    "                order=top_10_agent,\n",
    "                palette='Set2')\n",
    "    plt.title(f'Top 10 Agents of booking count for each {COL_NAME_HTL} by {desc} ({obj})')\n",
    "    plt.grid(alpha=0.3)\n",
    "    plt.show()"
   ]
  },
  {
   "cell_type": "code",
   "execution_count": 186,
   "metadata": {},
   "outputs": [
    {
     "data": {
      "application/vnd.jupyter.widget-view+json": {
       "model_id": "013e4563e06e43798dc3e5a1cffb8d16",
       "version_major": 2,
       "version_minor": 0
      },
      "text/plain": [
       "VBox(children=(Dropdown(description='Year: ', index=3, layout=Layout(margin='0 auto', width='15%'), options=(2…"
      ]
     },
     "metadata": {},
     "output_type": "display_data"
    }
   ],
   "source": [
    "draw_cht('All', year_dropdown, htl_agt_by_obj, COL_NAME_ARR_DATE_Y, 'Year')"
   ]
  },
  {
   "cell_type": "code",
   "execution_count": 187,
   "metadata": {},
   "outputs": [
    {
     "data": {
      "application/vnd.jupyter.widget-view+json": {
       "model_id": "d94d31bf6cb54303b1df5c90cc8432a4",
       "version_major": 2,
       "version_minor": 0
      },
      "text/plain": [
       "VBox(children=(Dropdown(description='Market Segment: ', index=7, layout=Layout(margin='0 auto', width='15%'), …"
      ]
     },
     "metadata": {},
     "output_type": "display_data"
    }
   ],
   "source": [
    "draw_cht('All', mkt_seg_dropdown, htl_agt_by_obj, COL_NAME_MKT_SEG, COL_NAME_MKT_SEG)"
   ]
  },
  {
   "cell_type": "code",
   "execution_count": 188,
   "metadata": {},
   "outputs": [
    {
     "data": {
      "application/vnd.jupyter.widget-view+json": {
       "model_id": "2a35cda876194b0abee8f783cc2903c4",
       "version_major": 2,
       "version_minor": 0
      },
      "text/plain": [
       "VBox(children=(Dropdown(description='Customer Type: ', index=4, layout=Layout(margin='0 auto', width='15%'), o…"
      ]
     },
     "metadata": {},
     "output_type": "display_data"
    }
   ],
   "source": [
    "draw_cht('All', cust_type_dropdown, htl_agt_by_obj, COL_NAME_CUST_TYPE, COL_NAME_CUST_TYPE)"
   ]
  },
  {
   "cell_type": "code",
   "execution_count": 189,
   "metadata": {},
   "outputs": [],
   "source": [
    "# Hotel & Customer Type by object\n",
    "def htl_cust_type_by_obj(obj, col_name, desc):\n",
    "    if obj == 'All':\n",
    "        df_filtered = df\n",
    "    else:\n",
    "        df_filtered = df[df[col_name] == obj]\n",
    "    top_customer_type = df_filtered.groupby(COL_NAME_CUST_TYPE).size().sort_values(ascending=False).index.tolist()\n",
    "    sns.catplot(x=COL_NAME_CUST_TYPE,\n",
    "                y='Booking Count',\n",
    "                hue=COL_NAME_HTL,\n",
    "                data=df_filtered.groupby([COL_NAME_HTL, COL_NAME_CUST_TYPE]).size().reset_index(name='Booking Count'),\n",
    "                kind='bar',\n",
    "                order=top_customer_type,\n",
    "                palette='Set2')\n",
    "    plt.title(f'Booking count of {COL_NAME_HTL} and {COL_NAME_CUST_TYPE} by {desc} ({obj})')\n",
    "    plt.grid(alpha=0.3)\n",
    "    plt.show()"
   ]
  },
  {
   "cell_type": "code",
   "execution_count": 190,
   "metadata": {},
   "outputs": [
    {
     "data": {
      "application/vnd.jupyter.widget-view+json": {
       "model_id": "f3b8af13c768461488f1b8df4620139c",
       "version_major": 2,
       "version_minor": 0
      },
      "text/plain": [
       "VBox(children=(Dropdown(description='Year: ', index=3, layout=Layout(margin='0 auto', width='15%'), options=(2…"
      ]
     },
     "metadata": {},
     "output_type": "display_data"
    }
   ],
   "source": [
    "draw_cht('All', year_dropdown, htl_cust_type_by_obj, COL_NAME_ARR_DATE_Y, 'Year')"
   ]
  },
  {
   "cell_type": "code",
   "execution_count": 191,
   "metadata": {},
   "outputs": [
    {
     "data": {
      "application/vnd.jupyter.widget-view+json": {
       "model_id": "71999648544441ae961ff08beba35056",
       "version_major": 2,
       "version_minor": 0
      },
      "text/plain": [
       "VBox(children=(Dropdown(description='Market Segment: ', index=7, layout=Layout(margin='0 auto', width='15%'), …"
      ]
     },
     "metadata": {},
     "output_type": "display_data"
    }
   ],
   "source": [
    "draw_cht('All', mkt_seg_dropdown, htl_cust_type_by_obj, COL_NAME_MKT_SEG, COL_NAME_MKT_SEG)"
   ]
  },
  {
   "cell_type": "code",
   "execution_count": 192,
   "metadata": {},
   "outputs": [],
   "source": [
    "# Hotel & Average Daily Rate by object\n",
    "def htl_avg_dly_rate_by_obj(obj, col_name, desc):\n",
    "    if obj == 'All':\n",
    "        df_filtered = df\n",
    "    else:\n",
    "        df_filtered = df[df[col_name] == obj]\n",
    "    sns.violinplot(x=COL_NAME_HTL, y=COL_NAME_AVG_DLY_RATE, data=df_filtered.sort_values(by=COL_NAME_AVG_DLY_RATE, ascending=False), palette='Set2')\n",
    "    plt.title(f'Boxplot of {COL_NAME_AVG_DLY_RATE} and {COL_NAME_HTL} by {desc} ({obj})')\n",
    "    plt.grid(alpha=0.3)\n",
    "    plt.show()"
   ]
  },
  {
   "cell_type": "code",
   "execution_count": 193,
   "metadata": {},
   "outputs": [
    {
     "data": {
      "application/vnd.jupyter.widget-view+json": {
       "model_id": "b3af88aa1fb740f7936ef1a8f400247d",
       "version_major": 2,
       "version_minor": 0
      },
      "text/plain": [
       "VBox(children=(Dropdown(description='Year: ', index=3, layout=Layout(margin='0 auto', width='15%'), options=(2…"
      ]
     },
     "metadata": {},
     "output_type": "display_data"
    }
   ],
   "source": [
    "draw_cht('All', year_dropdown, htl_avg_dly_rate_by_obj, COL_NAME_ARR_DATE_Y, 'Year')"
   ]
  },
  {
   "cell_type": "code",
   "execution_count": 194,
   "metadata": {},
   "outputs": [],
   "source": [
    "# Lead Time & Average Daily Rate by object\n",
    "def lead_time_avg_dly_rate_by_obj(obj, col_name, desc):\n",
    "    if obj == 'All':\n",
    "        df_filtered = df\n",
    "    else:\n",
    "        df_filtered = df[df[col_name] == obj]\n",
    "    plt.scatter(df_filtered[COL_NAME_LEAD_TIME], df_filtered[COL_NAME_AVG_DLY_RATE], color='#86bf91')\n",
    "    plt.xlabel(COL_NAME_LEAD_TIME)\n",
    "    plt.ylabel(COL_NAME_AVG_DLY_RATE)\n",
    "    plt.title(f'Scatter plot of {COL_NAME_LEAD_TIME} and {COL_NAME_AVG_DLY_RATE} by {desc} ({obj})')\n",
    "    plt.grid(alpha=0.3)\n",
    "    plt.show()"
   ]
  },
  {
   "cell_type": "code",
   "execution_count": 195,
   "metadata": {},
   "outputs": [
    {
     "data": {
      "application/vnd.jupyter.widget-view+json": {
       "model_id": "4702b73d77ef44f1ba71d16c779f5126",
       "version_major": 2,
       "version_minor": 0
      },
      "text/plain": [
       "VBox(children=(Dropdown(description='Year: ', index=3, layout=Layout(margin='0 auto', width='15%'), options=(2…"
      ]
     },
     "metadata": {},
     "output_type": "display_data"
    }
   ],
   "source": [
    "draw_cht('All', year_dropdown, lead_time_avg_dly_rate_by_obj, COL_NAME_ARR_DATE_Y, 'Year')"
   ]
  },
  {
   "cell_type": "code",
   "execution_count": 196,
   "metadata": {},
   "outputs": [
    {
     "data": {
      "application/vnd.jupyter.widget-view+json": {
       "model_id": "6ab23768c093469db1af178aad9c3a35",
       "version_major": 2,
       "version_minor": 0
      },
      "text/plain": [
       "VBox(children=(Dropdown(description='Market Segment: ', index=7, layout=Layout(margin='0 auto', width='15%'), …"
      ]
     },
     "metadata": {},
     "output_type": "display_data"
    }
   ],
   "source": [
    "draw_cht('All', mkt_seg_dropdown, lead_time_avg_dly_rate_by_obj, COL_NAME_MKT_SEG, COL_NAME_MKT_SEG)"
   ]
  },
  {
   "cell_type": "code",
   "execution_count": 197,
   "metadata": {},
   "outputs": [
    {
     "data": {
      "application/vnd.jupyter.widget-view+json": {
       "model_id": "f850c20b5e6e4fc18f3680f1add54abb",
       "version_major": 2,
       "version_minor": 0
      },
      "text/plain": [
       "VBox(children=(Dropdown(description='Customer Type: ', index=4, layout=Layout(margin='0 auto', width='15%'), o…"
      ]
     },
     "metadata": {},
     "output_type": "display_data"
    }
   ],
   "source": [
    "draw_cht('All', cust_type_dropdown, lead_time_avg_dly_rate_by_obj, COL_NAME_CUST_TYPE, COL_NAME_CUST_TYPE)"
   ]
  },
  {
   "cell_type": "code",
   "execution_count": 198,
   "metadata": {},
   "outputs": [],
   "source": [
    "# Hotel & Lead Time & Average Daily Rate by object\n",
    "def htl_lead_time_avg_dly_rate_by_obj(obj, col_name, desc):\n",
    "    if obj == 'All':\n",
    "        df_filtered = df\n",
    "    else:\n",
    "        df_filtered = df[df[col_name] == obj]\n",
    "    for i, hotel in enumerate(df_filtered[COL_NAME_HTL].unique()):\n",
    "        subset = df_filtered[df_filtered[COL_NAME_HTL] == hotel]\n",
    "        plt.scatter(subset[COL_NAME_LEAD_TIME], subset[COL_NAME_AVG_DLY_RATE], c=['#E99675', '#72B6A1'][i], alpha=0.5, label=hotel)\n",
    "    plt.xlabel(COL_NAME_LEAD_TIME)\n",
    "    plt.ylabel(COL_NAME_AVG_DLY_RATE)\n",
    "    plt.title(f'Scatter plot of {COL_NAME_LEAD_TIME} and {COL_NAME_AVG_DLY_RATE} with {COL_NAME_HTL} by {desc} ({obj})')\n",
    "    plt.legend(loc='upper right')\n",
    "    plt.grid(alpha=0.3)\n",
    "    plt.show()"
   ]
  },
  {
   "cell_type": "code",
   "execution_count": 199,
   "metadata": {},
   "outputs": [
    {
     "data": {
      "application/vnd.jupyter.widget-view+json": {
       "model_id": "ed07a0a3d60a49d29333f88c2c2e259b",
       "version_major": 2,
       "version_minor": 0
      },
      "text/plain": [
       "VBox(children=(Dropdown(description='Year: ', index=3, layout=Layout(margin='0 auto', width='15%'), options=(2…"
      ]
     },
     "metadata": {},
     "output_type": "display_data"
    }
   ],
   "source": [
    "draw_cht('All', year_dropdown, htl_lead_time_avg_dly_rate_by_obj, COL_NAME_ARR_DATE_Y, 'Year')"
   ]
  },
  {
   "cell_type": "code",
   "execution_count": 200,
   "metadata": {},
   "outputs": [
    {
     "data": {
      "application/vnd.jupyter.widget-view+json": {
       "model_id": "38e9c6b8cda0456e8bdd2651792d4cfd",
       "version_major": 2,
       "version_minor": 0
      },
      "text/plain": [
       "VBox(children=(Dropdown(description='Market Segment: ', index=7, layout=Layout(margin='0 auto', width='15%'), …"
      ]
     },
     "metadata": {},
     "output_type": "display_data"
    }
   ],
   "source": [
    "draw_cht('All', mkt_seg_dropdown, htl_lead_time_avg_dly_rate_by_obj, COL_NAME_MKT_SEG, COL_NAME_MKT_SEG)"
   ]
  },
  {
   "cell_type": "code",
   "execution_count": 201,
   "metadata": {},
   "outputs": [
    {
     "data": {
      "application/vnd.jupyter.widget-view+json": {
       "model_id": "5ff0d1fbadec471487efd1267a2bf87a",
       "version_major": 2,
       "version_minor": 0
      },
      "text/plain": [
       "VBox(children=(Dropdown(description='Customer Type: ', index=4, layout=Layout(margin='0 auto', width='15%'), o…"
      ]
     },
     "metadata": {},
     "output_type": "display_data"
    }
   ],
   "source": [
    "draw_cht('All', cust_type_dropdown, htl_lead_time_avg_dly_rate_by_obj, COL_NAME_CUST_TYPE, COL_NAME_CUST_TYPE)"
   ]
  }
 ],
 "metadata": {
  "kernelspec": {
   "display_name": "base",
   "language": "python",
   "name": "python3"
  },
  "language_info": {
   "codemirror_mode": {
    "name": "ipython",
    "version": 3
   },
   "file_extension": ".py",
   "mimetype": "text/x-python",
   "name": "python",
   "nbconvert_exporter": "python",
   "pygments_lexer": "ipython3",
   "version": "3.9.13"
  },
  "orig_nbformat": 4
 },
 "nbformat": 4,
 "nbformat_minor": 2
}
