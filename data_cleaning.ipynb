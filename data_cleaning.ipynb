{
 "cells": [
  {
   "attachments": {},
   "cell_type": "markdown",
   "metadata": {},
   "source": [
    "# CAPSTONE PROJECT"
   ]
  },
  {
   "cell_type": "code",
   "execution_count": 1,
   "metadata": {},
   "outputs": [],
   "source": [
    "import calendar\n",
    "import pandas as pd\n",
    "from pandas import Timestamp\n",
    "from datetime import datetime"
   ]
  },
  {
   "cell_type": "code",
   "execution_count": 2,
   "metadata": {},
   "outputs": [],
   "source": [
    "CN_HTL = 'hotel'\n",
    "CN_LT = 'lead_time'\n",
    "CN_D2 = 'arrival_date_day_of_month'\n",
    "CN_M2 = 'arrival_date_month'\n",
    "CN_Y4 = 'arrival_date_year'\n",
    "CN_ADT = 'adults'\n",
    "CN_CH = 'children'\n",
    "CN_CNTY = 'country'\n",
    "CN_MS = 'market_segment'\n",
    "CN_AG = 'agent'\n",
    "CN_CT = 'customer_type'\n",
    "CN_ADR = 'average_daily_rate'"
   ]
  },
  {
   "cell_type": "code",
   "execution_count": 3,
   "metadata": {},
   "outputs": [],
   "source": [
    "# Try parse to number\n",
    "def try_prs_num(s):\n",
    "    return pd.to_numeric(s, errors='coerce')"
   ]
  },
  {
   "cell_type": "code",
   "execution_count": 4,
   "metadata": {},
   "outputs": [],
   "source": [
    "# Try parse to number\n",
    "def try_prs_int(s):\n",
    "    return pd.to_numeric(s, errors='coerce').astype('Int64')"
   ]
  },
  {
   "cell_type": "code",
   "execution_count": 5,
   "metadata": {},
   "outputs": [],
   "source": [
    "df = pd.read_excel('portugal_hotel_booking.xlsx')\n",
    "country_codes_df = pd.read_excel('country_codes_list.xlsx')"
   ]
  },
  {
   "cell_type": "code",
   "execution_count": 6,
   "metadata": {},
   "outputs": [],
   "source": [
    "hotel = df[CN_HTL]\n",
    "lead_time = try_prs_int(df[CN_LT])\n",
    "day = try_prs_int(df[CN_D2])\n",
    "month = df[CN_M2]\n",
    "year = try_prs_int(df[CN_Y4])\n",
    "adults = try_prs_int(df[CN_ADT])\n",
    "children = try_prs_int(df[CN_CH])\n",
    "country = df[CN_CNTY]\n",
    "mkt_seg = df[CN_MS]\n",
    "agent = try_prs_int(df[CN_AG])\n",
    "cust_type = df[CN_CT]\n",
    "avg_dly_rate = try_prs_num(df[CN_ADR]).round(2)"
   ]
  },
  {
   "cell_type": "code",
   "execution_count": 7,
   "metadata": {},
   "outputs": [],
   "source": [
    "valid_months = set(calendar.month_name[1:])\n",
    "valids = (lead_time.notna()\n",
    "              & day.notna()\n",
    "              & year.notna()\n",
    "              & adults.notna()\n",
    "              & children.notna()\n",
    "              & agent.notna()\n",
    "              & avg_dly_rate.notna()\n",
    "              & lead_time.ge(0)\n",
    "              & day.gt(0)\n",
    "              & month.isin(valid_months)\n",
    "              & year.gt(0)\n",
    "              & adults.ge(0)\n",
    "              & children.ge(0)\n",
    "              & ~(adults.eq(0) & ~children.eq(0))\n",
    "              & agent.ge(0)\n",
    "              & avg_dly_rate.ge(0)\n",
    "              & country.isin(country_codes_df['Country'].unique()))"
   ]
  },
  {
   "cell_type": "code",
   "execution_count": 8,
   "metadata": {},
   "outputs": [],
   "source": [
    "hotel = hotel.loc[valids]\n",
    "lead_time = lead_time.loc[valids]\n",
    "day = day.loc[valids]\n",
    "month = month.loc[valids]\n",
    "year = year.loc[valids]\n",
    "adults = adults.loc[valids]\n",
    "children = children.loc[valids]\n",
    "country = country.loc[valids]\n",
    "mkt_seg = mkt_seg.loc[valids]\n",
    "agent = agent.loc[valids]\n",
    "cust_type = cust_type.loc[valids]\n",
    "avg_dly_rate = avg_dly_rate.loc[valids]"
   ]
  },
  {
   "cell_type": "code",
   "execution_count": 9,
   "metadata": {},
   "outputs": [],
   "source": [
    "month_map = {month_name: month_number for month_number, month_name in enumerate(calendar.month_name) if month_number != 0}\n",
    "\n",
    "month_num = month.map(month_map)\n",
    "\n",
    "df_date = pd.DataFrame({\n",
    "    'year': year,\n",
    "    'month': month_num,\n",
    "    'day': day\n",
    "})\n",
    "date = pd.to_datetime(df_date, format='%Y-%m-%d', errors='coerce')"
   ]
  },
  {
   "cell_type": "code",
   "execution_count": 10,
   "metadata": {},
   "outputs": [],
   "source": [
    "# Tukey's fences\n",
    "def tukey_fences_mod(col_name):\n",
    "    Q1 = df[col_name].quantile(0.25)\n",
    "    Q3 = df[col_name].quantile(0.99)\n",
    "    IQR = Q3 - Q1\n",
    "    upper_fence = Q3 + 1.5 * IQR\n",
    "    lower_fence = Q1 - 1.5 * IQR\n",
    "    return (df[col_name] < lower_fence) | (df[col_name] > upper_fence)"
   ]
  },
  {
   "cell_type": "code",
   "execution_count": 11,
   "metadata": {},
   "outputs": [],
   "source": [
    "valids &= (pd.notna(date)) & (date < Timestamp.today()) & ~tukey_fences_mod(CN_ADR) & ~tukey_fences_mod(CN_CH)\n",
    "invalids = ~valids"
   ]
  },
  {
   "cell_type": "code",
   "execution_count": 12,
   "metadata": {},
   "outputs": [],
   "source": [
    "hotel = hotel.loc[valids]\n",
    "lead_time = lead_time.loc[valids]\n",
    "day = day.loc[valids]\n",
    "month = month.loc[valids]\n",
    "year = year.loc[valids]\n",
    "date = date.loc[valids]\n",
    "adults = adults.loc[valids]\n",
    "children = children.loc[valids]\n",
    "country = country.loc[valids]\n",
    "mkt_seg = mkt_seg.loc[valids]\n",
    "agent = agent.loc[valids]\n",
    "cust_type = cust_type.loc[valids]\n",
    "avg_dly_rate = avg_dly_rate.loc[valids]\n",
    "weekday = pd.to_datetime(date, format='%Y-%m-%d').apply(lambda x: datetime.strftime(x, '%A'))"
   ]
  },
  {
   "cell_type": "code",
   "execution_count": 13,
   "metadata": {},
   "outputs": [],
   "source": [
    "pd.DataFrame({\n",
    "    'Hotel': hotel,\n",
    "    'Lead Time': lead_time,\n",
    "    'Arrival Date Day': day,\n",
    "    'Arrival Date Month': month,\n",
    "    'Arrival Date Year': year,\n",
    "    'Arrival Date': date,\n",
    "    'Weekday': weekday,\n",
    "    'Adults': adults,\n",
    "    'Children': children,\n",
    "    'Country': country,\n",
    "    'Market Segment': mkt_seg,\n",
    "    'Agent': agent,\n",
    "    'Customer Type': cust_type,\n",
    "    'Average Daily Rate': avg_dly_rate\n",
    "}).to_csv('data_valid.csv')\n",
    "df.loc[invalids].to_csv('data_invalid.csv')"
   ]
  }
 ],
 "metadata": {
  "kernelspec": {
   "display_name": "base",
   "language": "python",
   "name": "python3"
  },
  "language_info": {
   "codemirror_mode": {
    "name": "ipython",
    "version": 3
   },
   "file_extension": ".py",
   "mimetype": "text/x-python",
   "name": "python",
   "nbconvert_exporter": "python",
   "pygments_lexer": "ipython3",
   "version": "3.9.13"
  },
  "orig_nbformat": 4
 },
 "nbformat": 4,
 "nbformat_minor": 2
}
